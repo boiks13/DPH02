{
 "cells": [
  {
   "cell_type": "markdown",
   "metadata": {},
   "source": [
    "## PRACTICE EXERCISE"
   ]
  },
  {
   "cell_type": "markdown",
   "metadata": {},
   "source": [
    "**Objective:**\n",
    "Practice performing CRUD operations (Create, Read, Update, Delete) on a database table.\n",
    "\n",
    "**Perform the following tasks:**\n",
    "1. Create a new table named `Books`, with the following columns:\n",
    "  * BookID (Primary Key, Auto-increment)\n",
    "  * Title (Title of the book)\n",
    "  * Author (Author of the book)\n",
    "  * Genre (Genre of the book)\n",
    "  * Publication_Year (Year of publication)\n",
    "  * Price (Price of the Book)\n",
    "2. Insert at least 3 new books into the `Books` table.\n",
    "3. Retrieve all books from the Books table.\n",
    "4. Update the price of a specific book.\n",
    "5. Delete a book from the table."
   ]
  },
  {
   "cell_type": "code",
   "execution_count": 1,
   "metadata": {},
   "outputs": [],
   "source": [
    "%load_ext sql"
   ]
  },
  {
   "cell_type": "code",
   "execution_count": 2,
   "metadata": {},
   "outputs": [],
   "source": [
    "%sql sqlite:///sql-crud-exercise-database.db"
   ]
  },
  {
   "cell_type": "code",
   "execution_count": 3,
   "metadata": {},
   "outputs": [
    {
     "name": "stdout",
     "output_type": "stream",
     "text": [
      " * sqlite:///sql-crud-exercise-database.db\n",
      "Done.\n"
     ]
    },
    {
     "data": {
      "text/plain": [
       "[]"
      ]
     },
     "execution_count": 3,
     "metadata": {},
     "output_type": "execute_result"
    }
   ],
   "source": [
    "%%sql\n",
    "CREATE TABLE IF NOT EXISTS Books (\n",
    "    Book_id INT PRIMARY KEY,\n",
    "    Title VARCHAR(50) NOT NULL,\n",
    "    Author VARCHAR(50) NOT NULL,\n",
    "    Genre VARCHAR(50),\n",
    "    Publication_Year DECIMAL(10, 2) NOT NULL\n",
    ");\n"
   ]
  },
  {
   "cell_type": "code",
   "execution_count": 4,
   "metadata": {},
   "outputs": [
    {
     "name": "stdout",
     "output_type": "stream",
     "text": [
      " * sqlite:///sql-crud-exercise-database.db\n",
      "Done.\n"
     ]
    },
    {
     "data": {
      "text/html": [
       "<table>\n",
       "    <thead>\n",
       "        <tr>\n",
       "            <th>name</th>\n",
       "        </tr>\n",
       "    </thead>\n",
       "    <tbody>\n",
       "        <tr>\n",
       "            <td>Books</td>\n",
       "        </tr>\n",
       "    </tbody>\n",
       "</table>"
      ],
      "text/plain": [
       "[('Books',)]"
      ]
     },
     "execution_count": 4,
     "metadata": {},
     "output_type": "execute_result"
    }
   ],
   "source": [
    "%sql SELECT name FROM sqlite_master WHERE type='table';"
   ]
  },
  {
   "cell_type": "code",
   "execution_count": 5,
   "metadata": {},
   "outputs": [
    {
     "name": "stdout",
     "output_type": "stream",
     "text": [
      " * sqlite:///sql-crud-exercise-database.db\n",
      "Done.\n"
     ]
    },
    {
     "data": {
      "text/html": [
       "<table>\n",
       "    <thead>\n",
       "        <tr>\n",
       "            <th>cid</th>\n",
       "            <th>name</th>\n",
       "            <th>type</th>\n",
       "            <th>notnull</th>\n",
       "            <th>dflt_value</th>\n",
       "            <th>pk</th>\n",
       "        </tr>\n",
       "    </thead>\n",
       "    <tbody>\n",
       "        <tr>\n",
       "            <td>0</td>\n",
       "            <td>Book_id</td>\n",
       "            <td>INT</td>\n",
       "            <td>0</td>\n",
       "            <td>None</td>\n",
       "            <td>1</td>\n",
       "        </tr>\n",
       "        <tr>\n",
       "            <td>1</td>\n",
       "            <td>Title</td>\n",
       "            <td>VARCHAR(50)</td>\n",
       "            <td>1</td>\n",
       "            <td>None</td>\n",
       "            <td>0</td>\n",
       "        </tr>\n",
       "        <tr>\n",
       "            <td>2</td>\n",
       "            <td>Author</td>\n",
       "            <td>VARCHAR(50)</td>\n",
       "            <td>1</td>\n",
       "            <td>None</td>\n",
       "            <td>0</td>\n",
       "        </tr>\n",
       "        <tr>\n",
       "            <td>3</td>\n",
       "            <td>Genre</td>\n",
       "            <td>VARCHAR(50)</td>\n",
       "            <td>0</td>\n",
       "            <td>None</td>\n",
       "            <td>0</td>\n",
       "        </tr>\n",
       "        <tr>\n",
       "            <td>4</td>\n",
       "            <td>Publication_Year</td>\n",
       "            <td>DECIMAL(10, 2)</td>\n",
       "            <td>1</td>\n",
       "            <td>None</td>\n",
       "            <td>0</td>\n",
       "        </tr>\n",
       "    </tbody>\n",
       "</table>"
      ],
      "text/plain": [
       "[(0, 'Book_id', 'INT', 0, None, 1),\n",
       " (1, 'Title', 'VARCHAR(50)', 1, None, 0),\n",
       " (2, 'Author', 'VARCHAR(50)', 1, None, 0),\n",
       " (3, 'Genre', 'VARCHAR(50)', 0, None, 0),\n",
       " (4, 'Publication_Year', 'DECIMAL(10, 2)', 1, None, 0)]"
      ]
     },
     "execution_count": 5,
     "metadata": {},
     "output_type": "execute_result"
    }
   ],
   "source": [
    "%sql PRAGMA table_info('Books');"
   ]
  },
  {
   "cell_type": "code",
   "execution_count": 6,
   "metadata": {},
   "outputs": [
    {
     "name": "stdout",
     "output_type": "stream",
     "text": [
      " * sqlite:///sql-crud-exercise-database.db\n",
      "Done.\n"
     ]
    },
    {
     "data": {
      "text/plain": [
       "[]"
      ]
     },
     "execution_count": 6,
     "metadata": {},
     "output_type": "execute_result"
    }
   ],
   "source": [
    "%%sql ALTER TABLE Books\n",
    "ADD Price INT"
   ]
  },
  {
   "cell_type": "code",
   "execution_count": 7,
   "metadata": {},
   "outputs": [
    {
     "name": "stdout",
     "output_type": "stream",
     "text": [
      " * sqlite:///sql-crud-exercise-database.db\n",
      "Done.\n"
     ]
    },
    {
     "data": {
      "text/html": [
       "<table>\n",
       "    <thead>\n",
       "        <tr>\n",
       "            <th>cid</th>\n",
       "            <th>name</th>\n",
       "            <th>type</th>\n",
       "            <th>notnull</th>\n",
       "            <th>dflt_value</th>\n",
       "            <th>pk</th>\n",
       "        </tr>\n",
       "    </thead>\n",
       "    <tbody>\n",
       "        <tr>\n",
       "            <td>0</td>\n",
       "            <td>Book_id</td>\n",
       "            <td>INT</td>\n",
       "            <td>0</td>\n",
       "            <td>None</td>\n",
       "            <td>1</td>\n",
       "        </tr>\n",
       "        <tr>\n",
       "            <td>1</td>\n",
       "            <td>Title</td>\n",
       "            <td>VARCHAR(50)</td>\n",
       "            <td>1</td>\n",
       "            <td>None</td>\n",
       "            <td>0</td>\n",
       "        </tr>\n",
       "        <tr>\n",
       "            <td>2</td>\n",
       "            <td>Author</td>\n",
       "            <td>VARCHAR(50)</td>\n",
       "            <td>1</td>\n",
       "            <td>None</td>\n",
       "            <td>0</td>\n",
       "        </tr>\n",
       "        <tr>\n",
       "            <td>3</td>\n",
       "            <td>Genre</td>\n",
       "            <td>VARCHAR(50)</td>\n",
       "            <td>0</td>\n",
       "            <td>None</td>\n",
       "            <td>0</td>\n",
       "        </tr>\n",
       "        <tr>\n",
       "            <td>4</td>\n",
       "            <td>Publication_Year</td>\n",
       "            <td>DECIMAL(10, 2)</td>\n",
       "            <td>1</td>\n",
       "            <td>None</td>\n",
       "            <td>0</td>\n",
       "        </tr>\n",
       "        <tr>\n",
       "            <td>5</td>\n",
       "            <td>Price</td>\n",
       "            <td>INT</td>\n",
       "            <td>0</td>\n",
       "            <td>None</td>\n",
       "            <td>0</td>\n",
       "        </tr>\n",
       "    </tbody>\n",
       "</table>"
      ],
      "text/plain": [
       "[(0, 'Book_id', 'INT', 0, None, 1),\n",
       " (1, 'Title', 'VARCHAR(50)', 1, None, 0),\n",
       " (2, 'Author', 'VARCHAR(50)', 1, None, 0),\n",
       " (3, 'Genre', 'VARCHAR(50)', 0, None, 0),\n",
       " (4, 'Publication_Year', 'DECIMAL(10, 2)', 1, None, 0),\n",
       " (5, 'Price', 'INT', 0, None, 0)]"
      ]
     },
     "execution_count": 7,
     "metadata": {},
     "output_type": "execute_result"
    }
   ],
   "source": [
    "%sql PRAGMA table_info('Books');"
   ]
  },
  {
   "cell_type": "code",
   "execution_count": 8,
   "metadata": {},
   "outputs": [
    {
     "name": "stdout",
     "output_type": "stream",
     "text": [
      " * sqlite:///sql-crud-exercise-database.db\n",
      "1 rows affected.\n",
      "1 rows affected.\n",
      "1 rows affected.\n"
     ]
    },
    {
     "data": {
      "text/plain": [
       "[]"
      ]
     },
     "execution_count": 8,
     "metadata": {},
     "output_type": "execute_result"
    }
   ],
   "source": [
    "%%sql\n",
    "INSERT INTO Books (Book_id, Title, Author, Genre, Publication_Year, Price)\n",
    "VALUES (100, 'Chamber Secret', 'JK Rowling', 'Fantasy', '2008', 12);\n",
    "INSERT INTO Books (Book_id, Title, Author, Genre, Publication_Year, Price) \n",
    "VALUES (220, 'One Piece', 'Echiro Oda', 'Anime', '1999', 13);\n",
    "INSERT INTO Books (Book_id, Title, Author, Genre, Publication_Year, Price)\n",
    "VALUES (420, 'Mockingjay', 'Suzanne Collins', 'Dystopian', '2010', 15);"
   ]
  },
  {
   "cell_type": "code",
   "execution_count": 9,
   "metadata": {},
   "outputs": [
    {
     "name": "stdout",
     "output_type": "stream",
     "text": [
      " * sqlite:///sql-crud-exercise-database.db\n",
      "Done.\n"
     ]
    },
    {
     "data": {
      "text/html": [
       "<table>\n",
       "    <thead>\n",
       "        <tr>\n",
       "            <th>Book_id</th>\n",
       "            <th>Title</th>\n",
       "            <th>Author</th>\n",
       "            <th>Genre</th>\n",
       "            <th>Publication_Year</th>\n",
       "            <th>Price</th>\n",
       "        </tr>\n",
       "    </thead>\n",
       "    <tbody>\n",
       "        <tr>\n",
       "            <td>100</td>\n",
       "            <td>Chamber Secret</td>\n",
       "            <td>JK Rowling</td>\n",
       "            <td>Fantasy</td>\n",
       "            <td>2008</td>\n",
       "            <td>12</td>\n",
       "        </tr>\n",
       "        <tr>\n",
       "            <td>220</td>\n",
       "            <td>One Piece</td>\n",
       "            <td>Echiro Oda</td>\n",
       "            <td>Anime</td>\n",
       "            <td>1999</td>\n",
       "            <td>13</td>\n",
       "        </tr>\n",
       "        <tr>\n",
       "            <td>420</td>\n",
       "            <td>Mockingjay</td>\n",
       "            <td>Suzanne Collins</td>\n",
       "            <td>Dystopian</td>\n",
       "            <td>2010</td>\n",
       "            <td>15</td>\n",
       "        </tr>\n",
       "    </tbody>\n",
       "</table>"
      ],
      "text/plain": [
       "[(100, 'Chamber Secret', 'JK Rowling', 'Fantasy', 2008, 12),\n",
       " (220, 'One Piece', 'Echiro Oda', 'Anime', 1999, 13),\n",
       " (420, 'Mockingjay', 'Suzanne Collins', 'Dystopian', 2010, 15)]"
      ]
     },
     "execution_count": 9,
     "metadata": {},
     "output_type": "execute_result"
    }
   ],
   "source": [
    "%sql SELECT * FROM Books;"
   ]
  },
  {
   "cell_type": "code",
   "execution_count": 10,
   "metadata": {},
   "outputs": [
    {
     "name": "stdout",
     "output_type": "stream",
     "text": [
      " * sqlite:///sql-crud-exercise-database.db\n",
      "Done.\n"
     ]
    },
    {
     "data": {
      "text/html": [
       "<table>\n",
       "    <thead>\n",
       "        <tr>\n",
       "            <th>Title</th>\n",
       "            <th>Author</th>\n",
       "            <th>Genre</th>\n",
       "        </tr>\n",
       "    </thead>\n",
       "    <tbody>\n",
       "        <tr>\n",
       "            <td>Chamber Secret</td>\n",
       "            <td>JK Rowling</td>\n",
       "            <td>Fantasy</td>\n",
       "        </tr>\n",
       "        <tr>\n",
       "            <td>One Piece</td>\n",
       "            <td>Echiro Oda</td>\n",
       "            <td>Anime</td>\n",
       "        </tr>\n",
       "        <tr>\n",
       "            <td>Mockingjay</td>\n",
       "            <td>Suzanne Collins</td>\n",
       "            <td>Dystopian</td>\n",
       "        </tr>\n",
       "    </tbody>\n",
       "</table>"
      ],
      "text/plain": [
       "[('Chamber Secret', 'JK Rowling', 'Fantasy'),\n",
       " ('One Piece', 'Echiro Oda', 'Anime'),\n",
       " ('Mockingjay', 'Suzanne Collins', 'Dystopian')]"
      ]
     },
     "execution_count": 10,
     "metadata": {},
     "output_type": "execute_result"
    }
   ],
   "source": [
    "%%sql SELECT Title, Author, Genre\n",
    "FROM Books;\n"
   ]
  },
  {
   "cell_type": "code",
   "execution_count": 11,
   "metadata": {},
   "outputs": [
    {
     "name": "stdout",
     "output_type": "stream",
     "text": [
      " * sqlite:///sql-crud-exercise-database.db\n",
      "1 rows affected.\n"
     ]
    },
    {
     "data": {
      "text/plain": [
       "[]"
      ]
     },
     "execution_count": 11,
     "metadata": {},
     "output_type": "execute_result"
    }
   ],
   "source": [
    "%%sql UPDATE Books\n",
    "SET Price = 100\n",
    "WHERE Book_id = 100;"
   ]
  },
  {
   "cell_type": "code",
   "execution_count": 12,
   "metadata": {},
   "outputs": [
    {
     "name": "stdout",
     "output_type": "stream",
     "text": [
      " * sqlite:///sql-crud-exercise-database.db\n",
      "Done.\n"
     ]
    },
    {
     "data": {
      "text/html": [
       "<table>\n",
       "    <thead>\n",
       "        <tr>\n",
       "            <th>Book_id</th>\n",
       "            <th>Title</th>\n",
       "            <th>Author</th>\n",
       "            <th>Genre</th>\n",
       "            <th>Publication_Year</th>\n",
       "            <th>Price</th>\n",
       "        </tr>\n",
       "    </thead>\n",
       "    <tbody>\n",
       "        <tr>\n",
       "            <td>100</td>\n",
       "            <td>Chamber Secret</td>\n",
       "            <td>JK Rowling</td>\n",
       "            <td>Fantasy</td>\n",
       "            <td>2008</td>\n",
       "            <td>100</td>\n",
       "        </tr>\n",
       "        <tr>\n",
       "            <td>220</td>\n",
       "            <td>One Piece</td>\n",
       "            <td>Echiro Oda</td>\n",
       "            <td>Anime</td>\n",
       "            <td>1999</td>\n",
       "            <td>13</td>\n",
       "        </tr>\n",
       "        <tr>\n",
       "            <td>420</td>\n",
       "            <td>Mockingjay</td>\n",
       "            <td>Suzanne Collins</td>\n",
       "            <td>Dystopian</td>\n",
       "            <td>2010</td>\n",
       "            <td>15</td>\n",
       "        </tr>\n",
       "    </tbody>\n",
       "</table>"
      ],
      "text/plain": [
       "[(100, 'Chamber Secret', 'JK Rowling', 'Fantasy', 2008, 100),\n",
       " (220, 'One Piece', 'Echiro Oda', 'Anime', 1999, 13),\n",
       " (420, 'Mockingjay', 'Suzanne Collins', 'Dystopian', 2010, 15)]"
      ]
     },
     "execution_count": 12,
     "metadata": {},
     "output_type": "execute_result"
    }
   ],
   "source": [
    "%sql SELECT * FROM Books;"
   ]
  },
  {
   "cell_type": "code",
   "execution_count": 13,
   "metadata": {},
   "outputs": [
    {
     "name": "stdout",
     "output_type": "stream",
     "text": [
      " * sqlite:///sql-crud-exercise-database.db\n",
      "1 rows affected.\n"
     ]
    },
    {
     "data": {
      "text/plain": [
       "[]"
      ]
     },
     "execution_count": 13,
     "metadata": {},
     "output_type": "execute_result"
    }
   ],
   "source": [
    "%%sql DELETE FROM Books\n",
    "WHERE Book_id = 100;"
   ]
  },
  {
   "cell_type": "code",
   "execution_count": 15,
   "metadata": {},
   "outputs": [
    {
     "name": "stdout",
     "output_type": "stream",
     "text": [
      " * sqlite:///sql-crud-exercise-database.db\n",
      "Done.\n"
     ]
    },
    {
     "data": {
      "text/html": [
       "<table>\n",
       "    <thead>\n",
       "        <tr>\n",
       "            <th>Book_id</th>\n",
       "            <th>Title</th>\n",
       "            <th>Author</th>\n",
       "            <th>Genre</th>\n",
       "            <th>Publication_Year</th>\n",
       "            <th>Price</th>\n",
       "        </tr>\n",
       "    </thead>\n",
       "    <tbody>\n",
       "        <tr>\n",
       "            <td>220</td>\n",
       "            <td>One Piece</td>\n",
       "            <td>Echiro Oda</td>\n",
       "            <td>Anime</td>\n",
       "            <td>1999</td>\n",
       "            <td>13</td>\n",
       "        </tr>\n",
       "        <tr>\n",
       "            <td>420</td>\n",
       "            <td>Mockingjay</td>\n",
       "            <td>Suzanne Collins</td>\n",
       "            <td>Dystopian</td>\n",
       "            <td>2010</td>\n",
       "            <td>15</td>\n",
       "        </tr>\n",
       "    </tbody>\n",
       "</table>"
      ],
      "text/plain": [
       "[(220, 'One Piece', 'Echiro Oda', 'Anime', 1999, 13),\n",
       " (420, 'Mockingjay', 'Suzanne Collins', 'Dystopian', 2010, 15)]"
      ]
     },
     "execution_count": 15,
     "metadata": {},
     "output_type": "execute_result"
    }
   ],
   "source": [
    "%sql SELECT * FROM Books;"
   ]
  }
 ],
 "metadata": {
  "kernelspec": {
   "display_name": "venv",
   "language": "python",
   "name": "python3"
  },
  "language_info": {
   "codemirror_mode": {
    "name": "ipython",
    "version": 3
   },
   "file_extension": ".py",
   "mimetype": "text/x-python",
   "name": "python",
   "nbconvert_exporter": "python",
   "pygments_lexer": "ipython3",
   "version": "3.12.3"
  }
 },
 "nbformat": 4,
 "nbformat_minor": 2
}
