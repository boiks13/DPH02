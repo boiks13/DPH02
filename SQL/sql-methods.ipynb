{
 "cells": [
  {
   "cell_type": "code",
   "execution_count": 1,
   "metadata": {},
   "outputs": [
    {
     "name": "stdout",
     "output_type": "stream",
     "text": [
      "Requirement already satisfied: ipython-sql in c:\\users\\asus\\desktop\\dph02\\venv\\lib\\site-packages (0.5.0)\n",
      "Requirement already satisfied: prettytable in c:\\users\\asus\\desktop\\dph02\\venv\\lib\\site-packages (from ipython-sql) (3.10.0)\n",
      "Requirement already satisfied: ipython in c:\\users\\asus\\desktop\\dph02\\venv\\lib\\site-packages (from ipython-sql) (8.25.0)\n",
      "Requirement already satisfied: sqlalchemy>=2.0 in c:\\users\\asus\\desktop\\dph02\\venv\\lib\\site-packages (from ipython-sql) (2.0.30)\n",
      "Requirement already satisfied: sqlparse in c:\\users\\asus\\desktop\\dph02\\venv\\lib\\site-packages (from ipython-sql) (0.5.0)\n",
      "Requirement already satisfied: six in c:\\users\\asus\\desktop\\dph02\\venv\\lib\\site-packages (from ipython-sql) (1.16.0)\n",
      "Requirement already satisfied: ipython-genutils in c:\\users\\asus\\desktop\\dph02\\venv\\lib\\site-packages (from ipython-sql) (0.2.0)\n",
      "Requirement already satisfied: typing-extensions>=4.6.0 in c:\\users\\asus\\desktop\\dph02\\venv\\lib\\site-packages (from sqlalchemy>=2.0->ipython-sql) (4.12.2)\n",
      "Requirement already satisfied: greenlet!=0.4.17 in c:\\users\\asus\\desktop\\dph02\\venv\\lib\\site-packages (from sqlalchemy>=2.0->ipython-sql) (3.0.3)\n",
      "Requirement already satisfied: decorator in c:\\users\\asus\\desktop\\dph02\\venv\\lib\\site-packages (from ipython->ipython-sql) (5.1.1)\n",
      "Requirement already satisfied: jedi>=0.16 in c:\\users\\asus\\desktop\\dph02\\venv\\lib\\site-packages (from ipython->ipython-sql) (0.19.1)\n",
      "Requirement already satisfied: matplotlib-inline in c:\\users\\asus\\desktop\\dph02\\venv\\lib\\site-packages (from ipython->ipython-sql) (0.1.7)\n",
      "Requirement already satisfied: prompt-toolkit<3.1.0,>=3.0.41 in c:\\users\\asus\\desktop\\dph02\\venv\\lib\\site-packages (from ipython->ipython-sql) (3.0.47)\n",
      "Requirement already satisfied: pygments>=2.4.0 in c:\\users\\asus\\desktop\\dph02\\venv\\lib\\site-packages (from ipython->ipython-sql) (2.18.0)\n",
      "Requirement already satisfied: stack-data in c:\\users\\asus\\desktop\\dph02\\venv\\lib\\site-packages (from ipython->ipython-sql) (0.6.3)\n",
      "Requirement already satisfied: traitlets>=5.13.0 in c:\\users\\asus\\desktop\\dph02\\venv\\lib\\site-packages (from ipython->ipython-sql) (5.14.3)\n",
      "Requirement already satisfied: colorama in c:\\users\\asus\\desktop\\dph02\\venv\\lib\\site-packages (from ipython->ipython-sql) (0.4.6)\n",
      "Requirement already satisfied: wcwidth in c:\\users\\asus\\desktop\\dph02\\venv\\lib\\site-packages (from prettytable->ipython-sql) (0.2.13)\n",
      "Requirement already satisfied: parso<0.9.0,>=0.8.3 in c:\\users\\asus\\desktop\\dph02\\venv\\lib\\site-packages (from jedi>=0.16->ipython->ipython-sql) (0.8.4)\n",
      "Requirement already satisfied: executing>=1.2.0 in c:\\users\\asus\\desktop\\dph02\\venv\\lib\\site-packages (from stack-data->ipython->ipython-sql) (2.0.1)\n",
      "Requirement already satisfied: asttokens>=2.1.0 in c:\\users\\asus\\desktop\\dph02\\venv\\lib\\site-packages (from stack-data->ipython->ipython-sql) (2.4.1)\n",
      "Requirement already satisfied: pure-eval in c:\\users\\asus\\desktop\\dph02\\venv\\lib\\site-packages (from stack-data->ipython->ipython-sql) (0.2.2)\n",
      "Note: you may need to restart the kernel to use updated packages.\n"
     ]
    }
   ],
   "source": [
    "%pip install ipython-sql"
   ]
  },
  {
   "cell_type": "markdown",
   "metadata": {},
   "source": [
    "# **SQL Methods**\n",
    "In SQL, methods refer to functions or procedures that perform specific tasks within your queries. They are like pre-defined tools that you can use to manipulate, analyze, or interact with your data in various ways."
   ]
  },
  {
   "cell_type": "markdown",
   "metadata": {},
   "source": [
    "## DISTINCT\n",
    "The **DISTINCT** keyword is used to return only distinct (unique) values in the result set of a query. It ensures that duplicate **rows** are removed from the output."
   ]
  },
  {
   "cell_type": "markdown",
   "metadata": {},
   "source": [
    "#### Syntax:\n",
    "```\n",
    " %%sql\n",
    "SELECT DISTINCT column1, column2, ...\n",
    "FROM table_name;"
   ]
  },
  {
   "cell_type": "code",
   "execution_count": 7,
   "metadata": {},
   "outputs": [
    {
     "name": "stdout",
     "output_type": "stream",
     "text": [
      " * sqlite:///sql-methods-database.db\n",
      "Done.\n"
     ]
    },
    {
     "data": {
      "text/html": [
       "<table>\n",
       "    <thead>\n",
       "        <tr>\n",
       "            <th>department</th>\n",
       "        </tr>\n",
       "    </thead>\n",
       "    <tbody>\n",
       "        <tr>\n",
       "            <td>Animation</td>\n",
       "        </tr>\n",
       "        <tr>\n",
       "            <td>Marketing</td>\n",
       "        </tr>\n",
       "        <tr>\n",
       "            <td>Sales</td>\n",
       "        </tr>\n",
       "        <tr>\n",
       "            <td>IT</td>\n",
       "        </tr>\n",
       "        <tr>\n",
       "            <td>Business</td>\n",
       "        </tr>\n",
       "        <tr>\n",
       "            <td>Accountancy</td>\n",
       "        </tr>\n",
       "        <tr>\n",
       "            <td>Engineering</td>\n",
       "        </tr>\n",
       "    </tbody>\n",
       "</table>"
      ],
      "text/plain": [
       "[('Animation',),\n",
       " ('Marketing',),\n",
       " ('Sales',),\n",
       " ('IT',),\n",
       " ('Business',),\n",
       " ('Accountancy',),\n",
       " ('Engineering',)]"
      ]
     },
     "execution_count": 7,
     "metadata": {},
     "output_type": "execute_result"
    }
   ],
   "source": [
    "%%sql\n",
    "SELECT DISTINCT department\n",
    "FROM Students;"
   ]
  },
  {
   "cell_type": "markdown",
   "metadata": {},
   "source": [
    "## LIMIT\n",
    "The **LIMIT** clause specifies the maximum number of rows to return in a query result.\n",
    "#### Syntax\n",
    "```\n",
    "%%sql\n",
    "SELECT * FROM table_name\n",
    "LIMIT number_of_rows;\n",
    "```"
   ]
  },
  {
   "cell_type": "markdown",
   "metadata": {},
   "source": []
  },
  {
   "cell_type": "code",
   "execution_count": 8,
   "metadata": {},
   "outputs": [
    {
     "name": "stdout",
     "output_type": "stream",
     "text": [
      " * sqlite:///sql-methods-database.db\n",
      "Done.\n"
     ]
    },
    {
     "data": {
      "text/html": [
       "<table>\n",
       "    <thead>\n",
       "        <tr>\n",
       "            <th>student_id</th>\n",
       "            <th>first_name</th>\n",
       "            <th>last_name</th>\n",
       "            <th>department</th>\n",
       "            <th>grade</th>\n",
       "        </tr>\n",
       "    </thead>\n",
       "    <tbody>\n",
       "        <tr>\n",
       "            <td>101</td>\n",
       "            <td>Richard</td>\n",
       "            <td>Davis</td>\n",
       "            <td>Animation</td>\n",
       "            <td>90.8</td>\n",
       "        </tr>\n",
       "        <tr>\n",
       "            <td>102</td>\n",
       "            <td>Linda</td>\n",
       "            <td>Clark</td>\n",
       "            <td>Marketing</td>\n",
       "            <td>75.4</td>\n",
       "        </tr>\n",
       "        <tr>\n",
       "            <td>103</td>\n",
       "            <td>Joseph</td>\n",
       "            <td>Lewis</td>\n",
       "            <td>Sales</td>\n",
       "            <td>98</td>\n",
       "        </tr>\n",
       "        <tr>\n",
       "            <td>104</td>\n",
       "            <td>Elizabeth</td>\n",
       "            <td>Walker</td>\n",
       "            <td>IT</td>\n",
       "            <td>76.8</td>\n",
       "        </tr>\n",
       "        <tr>\n",
       "            <td>105</td>\n",
       "            <td>William</td>\n",
       "            <td>Lopez</td>\n",
       "            <td>Business</td>\n",
       "            <td>95</td>\n",
       "        </tr>\n",
       "    </tbody>\n",
       "</table>"
      ],
      "text/plain": [
       "[(101, 'Richard', 'Davis', 'Animation', 90.8),\n",
       " (102, 'Linda', 'Clark', 'Marketing', 75.4),\n",
       " (103, 'Joseph', 'Lewis', 'Sales', 98),\n",
       " (104, 'Elizabeth', 'Walker', 'IT', 76.8),\n",
       " (105, 'William', 'Lopez', 'Business', 95)]"
      ]
     },
     "execution_count": 8,
     "metadata": {},
     "output_type": "execute_result"
    }
   ],
   "source": [
    "%%sql\n",
    "SELECT * FROM Students\n",
    "LIMIT 5;"
   ]
  },
  {
   "cell_type": "markdown",
   "metadata": {},
   "source": [
    "##### LIMIT (offset, number_of_rows)"
   ]
  },
  {
   "cell_type": "code",
   "execution_count": 9,
   "metadata": {},
   "outputs": [
    {
     "name": "stdout",
     "output_type": "stream",
     "text": [
      " * sqlite:///sql-methods-database.db\n",
      "Done.\n"
     ]
    },
    {
     "data": {
      "text/html": [
       "<table>\n",
       "    <thead>\n",
       "        <tr>\n",
       "            <th>student_id</th>\n",
       "            <th>first_name</th>\n",
       "            <th>last_name</th>\n",
       "            <th>department</th>\n",
       "            <th>grade</th>\n",
       "        </tr>\n",
       "    </thead>\n",
       "    <tbody>\n",
       "        <tr>\n",
       "            <td>104</td>\n",
       "            <td>Elizabeth</td>\n",
       "            <td>Walker</td>\n",
       "            <td>IT</td>\n",
       "            <td>76.8</td>\n",
       "        </tr>\n",
       "        <tr>\n",
       "            <td>105</td>\n",
       "            <td>William</td>\n",
       "            <td>Lopez</td>\n",
       "            <td>Business</td>\n",
       "            <td>95</td>\n",
       "        </tr>\n",
       "        <tr>\n",
       "            <td>106</td>\n",
       "            <td>Barbara</td>\n",
       "            <td>Thompson</td>\n",
       "            <td>Accountancy</td>\n",
       "            <td>85</td>\n",
       "        </tr>\n",
       "        <tr>\n",
       "            <td>107</td>\n",
       "            <td>Susan</td>\n",
       "            <td>Martin</td>\n",
       "            <td>Marketing</td>\n",
       "            <td>95</td>\n",
       "        </tr>\n",
       "        <tr>\n",
       "            <td>108</td>\n",
       "            <td>Kenneth</td>\n",
       "            <td>Lee</td>\n",
       "            <td>IT</td>\n",
       "            <td>88.3</td>\n",
       "        </tr>\n",
       "    </tbody>\n",
       "</table>"
      ],
      "text/plain": [
       "[(104, 'Elizabeth', 'Walker', 'IT', 76.8),\n",
       " (105, 'William', 'Lopez', 'Business', 95),\n",
       " (106, 'Barbara', 'Thompson', 'Accountancy', 85),\n",
       " (107, 'Susan', 'Martin', 'Marketing', 95),\n",
       " (108, 'Kenneth', 'Lee', 'IT', 88.3)]"
      ]
     },
     "execution_count": 9,
     "metadata": {},
     "output_type": "execute_result"
    }
   ],
   "source": [
    "%%sql\n",
    "SELECT * FROM Students\n",
    "LIMIT 3, 5;"
   ]
  },
  {
   "cell_type": "markdown",
   "metadata": {},
   "source": [
    "## COUNT\n",
    "The **COUNT** function is used to count the number of rows in a table or the number of rows matching a specific condition.\n",
    "\n",
    "#### Syntax:\n",
    "```\n",
    "%%sql\n",
    "\n",
    "SELECT COUNT(*) FROM table_name\n",
    "SELECT COUNT(column_name) FROM table_name\n",
    "SELECT COUNT(DISTINCT column_name) FROM table_name;\n",
    "```"
   ]
  },
  {
   "cell_type": "code",
   "execution_count": 12,
   "metadata": {},
   "outputs": [
    {
     "name": "stdout",
     "output_type": "stream",
     "text": [
      " * sqlite:///sql-methods-database.db\n",
      "Done.\n",
      "Done.\n"
     ]
    },
    {
     "data": {
      "text/html": [
       "<table>\n",
       "    <thead>\n",
       "        <tr>\n",
       "            <th>COUNT(DISTINCT department)</th>\n",
       "        </tr>\n",
       "    </thead>\n",
       "    <tbody>\n",
       "        <tr>\n",
       "            <td>7</td>\n",
       "        </tr>\n",
       "    </tbody>\n",
       "</table>"
      ],
      "text/plain": [
       "[(7,)]"
      ]
     },
     "execution_count": 12,
     "metadata": {},
     "output_type": "execute_result"
    }
   ],
   "source": [
    "%%sql\n",
    "\n",
    "-- Return the total number of rows in the students table\n",
    "\n",
    "-- Return the total number of rows of a specific column\n",
    "SELECT COUNT(first_name) FROM Students;\n",
    "\n",
    "-- Return the total number of unique values in a specific column\n",
    "SELECT COUNT(DISTINCT department) FROM Students;"
   ]
  },
  {
   "cell_type": "markdown",
   "metadata": {},
   "source": [
    "## WHERE\n",
    "The **WHERE** clause is used to filter data retrieved from a database based on specific conditions.\n",
    "> **Common Operators Used in WHERE Clause:**\n",
    "```\n",
    "Comparison Operators:\n",
    "  [ = ] , [ != ] , [ < ] , [ > ] , [ <= ] , [ >= ]\n",
    "Logical Operators:\n",
    "  AND , OR , NOT\n",
    "Special Operators:\n",
    "  BETWEEN , IN , LIKE"
   ]
  },
  {
   "cell_type": "markdown",
   "metadata": {},
   "source": [
    "#### Syntax 1: \n",
    "For Simple Comparison Operators:\n",
    "```\n",
    "%%sql\n",
    "SELECT *\n",
    "FROM table_name\n",
    "WHERE condition;\n",
    "```"
   ]
  },
  {
   "cell_type": "code",
   "execution_count": 14,
   "metadata": {},
   "outputs": [
    {
     "name": "stdout",
     "output_type": "stream",
     "text": [
      " * sqlite:///sql-methods-database.db\n",
      "Done.\n",
      "Done.\n",
      "Done.\n",
      "Done.\n",
      "Done.\n",
      "Done.\n"
     ]
    },
    {
     "data": {
      "text/html": [
       "<table>\n",
       "    <thead>\n",
       "        <tr>\n",
       "            <th>student_id</th>\n",
       "            <th>first_name</th>\n",
       "            <th>last_name</th>\n",
       "            <th>department</th>\n",
       "            <th>grade</th>\n",
       "        </tr>\n",
       "    </thead>\n",
       "    <tbody>\n",
       "        <tr>\n",
       "            <td>101</td>\n",
       "            <td>Richard</td>\n",
       "            <td>Davis</td>\n",
       "            <td>Animation</td>\n",
       "            <td>90.8</td>\n",
       "        </tr>\n",
       "        <tr>\n",
       "            <td>103</td>\n",
       "            <td>Joseph</td>\n",
       "            <td>Lewis</td>\n",
       "            <td>Sales</td>\n",
       "            <td>98</td>\n",
       "        </tr>\n",
       "        <tr>\n",
       "            <td>105</td>\n",
       "            <td>William</td>\n",
       "            <td>Lopez</td>\n",
       "            <td>Business</td>\n",
       "            <td>95</td>\n",
       "        </tr>\n",
       "        <tr>\n",
       "            <td>107</td>\n",
       "            <td>Susan</td>\n",
       "            <td>Martin</td>\n",
       "            <td>Marketing</td>\n",
       "            <td>95</td>\n",
       "        </tr>\n",
       "        <tr>\n",
       "            <td>108</td>\n",
       "            <td>Kenneth</td>\n",
       "            <td>Lee</td>\n",
       "            <td>IT</td>\n",
       "            <td>88.3</td>\n",
       "        </tr>\n",
       "        <tr>\n",
       "            <td>110</td>\n",
       "            <td>Steven</td>\n",
       "            <td>Jackson</td>\n",
       "            <td>Business</td>\n",
       "            <td>88.3</td>\n",
       "        </tr>\n",
       "    </tbody>\n",
       "</table>"
      ],
      "text/plain": [
       "[(101, 'Richard', 'Davis', 'Animation', 90.8),\n",
       " (103, 'Joseph', 'Lewis', 'Sales', 98),\n",
       " (105, 'William', 'Lopez', 'Business', 95),\n",
       " (107, 'Susan', 'Martin', 'Marketing', 95),\n",
       " (108, 'Kenneth', 'Lee', 'IT', 88.3),\n",
       " (110, 'Steven', 'Jackson', 'Business', 88.3)]"
      ]
     },
     "execution_count": 14,
     "metadata": {},
     "output_type": "execute_result"
    }
   ],
   "source": [
    "%%sql\n",
    "-- using the equal to [ = ]\n",
    "SELECT * FROM Students\n",
    "WHERE grade = 95;\n",
    "-- using the not equal to [ != ]\n",
    "SELECT * FROM Students\n",
    "WHERE department != \"IT\"; \n",
    "-- using the less than [ < ]\n",
    "SELECT * FROM Students\n",
    "WHERE grade < 80;\n",
    "-- using the greater than [ > ]\n",
    "SELECT * FROM Students\n",
    "WHERE grade > 90;\n",
    "-- using the less than or equal to [ <= ]\n",
    "SELECT * FROM Students\n",
    "WHERE grade <= 85;\n",
    "-- using the greater than or equal to [ >= ]\n",
    "SELECT * FROM Students\n",
    "WHERE grade >= 88;"
   ]
  },
  {
   "cell_type": "markdown",
   "metadata": {},
   "source": [
    "#### Syntax 2:\n",
    "For Logical Operators:\n",
    "```\n",
    "%%sql\n",
    "SELECT column1, column2, ...\n",
    "FROM table_name\n",
    "WHERE condition1 AND/OR/NOT condition2;\n",
    "```"
   ]
  },
  {
   "cell_type": "code",
   "execution_count": 15,
   "metadata": {},
   "outputs": [
    {
     "name": "stdout",
     "output_type": "stream",
     "text": [
      " * sqlite:///sql-methods-database.db\n",
      "Done.\n",
      "Done.\n",
      "Done.\n"
     ]
    },
    {
     "data": {
      "text/html": [
       "<table>\n",
       "    <thead>\n",
       "        <tr>\n",
       "            <th>student_id</th>\n",
       "            <th>first_name</th>\n",
       "            <th>last_name</th>\n",
       "            <th>department</th>\n",
       "            <th>grade</th>\n",
       "        </tr>\n",
       "    </thead>\n",
       "    <tbody>\n",
       "        <tr>\n",
       "            <td>102</td>\n",
       "            <td>Linda</td>\n",
       "            <td>Clark</td>\n",
       "            <td>Marketing</td>\n",
       "            <td>75.4</td>\n",
       "        </tr>\n",
       "        <tr>\n",
       "            <td>103</td>\n",
       "            <td>Joseph</td>\n",
       "            <td>Lewis</td>\n",
       "            <td>Sales</td>\n",
       "            <td>98</td>\n",
       "        </tr>\n",
       "        <tr>\n",
       "            <td>104</td>\n",
       "            <td>Elizabeth</td>\n",
       "            <td>Walker</td>\n",
       "            <td>IT</td>\n",
       "            <td>76.8</td>\n",
       "        </tr>\n",
       "        <tr>\n",
       "            <td>105</td>\n",
       "            <td>William</td>\n",
       "            <td>Lopez</td>\n",
       "            <td>Business</td>\n",
       "            <td>95</td>\n",
       "        </tr>\n",
       "        <tr>\n",
       "            <td>106</td>\n",
       "            <td>Barbara</td>\n",
       "            <td>Thompson</td>\n",
       "            <td>Accountancy</td>\n",
       "            <td>85</td>\n",
       "        </tr>\n",
       "        <tr>\n",
       "            <td>107</td>\n",
       "            <td>Susan</td>\n",
       "            <td>Martin</td>\n",
       "            <td>Marketing</td>\n",
       "            <td>95</td>\n",
       "        </tr>\n",
       "        <tr>\n",
       "            <td>108</td>\n",
       "            <td>Kenneth</td>\n",
       "            <td>Lee</td>\n",
       "            <td>IT</td>\n",
       "            <td>88.3</td>\n",
       "        </tr>\n",
       "        <tr>\n",
       "            <td>109</td>\n",
       "            <td>Amanda</td>\n",
       "            <td>White</td>\n",
       "            <td>Engineering</td>\n",
       "            <td>85</td>\n",
       "        </tr>\n",
       "        <tr>\n",
       "            <td>110</td>\n",
       "            <td>Steven</td>\n",
       "            <td>Jackson</td>\n",
       "            <td>Business</td>\n",
       "            <td>88.3</td>\n",
       "        </tr>\n",
       "    </tbody>\n",
       "</table>"
      ],
      "text/plain": [
       "[(102, 'Linda', 'Clark', 'Marketing', 75.4),\n",
       " (103, 'Joseph', 'Lewis', 'Sales', 98),\n",
       " (104, 'Elizabeth', 'Walker', 'IT', 76.8),\n",
       " (105, 'William', 'Lopez', 'Business', 95),\n",
       " (106, 'Barbara', 'Thompson', 'Accountancy', 85),\n",
       " (107, 'Susan', 'Martin', 'Marketing', 95),\n",
       " (108, 'Kenneth', 'Lee', 'IT', 88.3),\n",
       " (109, 'Amanda', 'White', 'Engineering', 85),\n",
       " (110, 'Steven', 'Jackson', 'Business', 88.3)]"
      ]
     },
     "execution_count": 15,
     "metadata": {},
     "output_type": "execute_result"
    }
   ],
   "source": [
    "%%sql\n",
    "-- Logical AND - both conditions must be TRUE\n",
    "SELECT * FROM Students\n",
    "WHERE department = \"IT\" AND grade > 85;\n",
    "-- Logical OR - at lease one of the conditions is TRUE\n",
    "SELECT * FROM Students\n",
    "WHERE department = \"Marketing\" OR department = \"IT\";\n",
    "-- Logical NOT - negates the result\n",
    "SELECT * FROM Students\n",
    "WHERE NOT department = \"Animation\";"
   ]
  },
  {
   "cell_type": "markdown",
   "metadata": {},
   "source": [
    "#### Syntax 3:\n",
    "For Special Operators:\n",
    "```\n",
    "%%sql\n",
    "-- BETWEEN\n",
    "SELECT column1, column2, ... FROM table_name\n",
    "WHERE column_name BETWEEN value1 AND value2;\n",
    "-- IN\n",
    "SELECT column1, column2, ... FROM table_name\n",
    "WHERE column_name IN (value1, value2, ...);\n",
    "-- LIKE\n",
    "SELECT column1, column2, ... FROM table_name\n",
    "WHERE column_name LIKE pattern;\n",
    "```"
   ]
  },
  {
   "cell_type": "code",
   "execution_count": 16,
   "metadata": {},
   "outputs": [
    {
     "name": "stdout",
     "output_type": "stream",
     "text": [
      " * sqlite:///sql-methods-database.db\n",
      "Done.\n",
      "Done.\n",
      "Done.\n",
      "Done.\n",
      "Done.\n",
      "Done.\n"
     ]
    },
    {
     "data": {
      "text/html": [
       "<table>\n",
       "    <thead>\n",
       "        <tr>\n",
       "            <th>student_id</th>\n",
       "            <th>first_name</th>\n",
       "            <th>last_name</th>\n",
       "            <th>department</th>\n",
       "            <th>grade</th>\n",
       "        </tr>\n",
       "    </thead>\n",
       "    <tbody>\n",
       "        <tr>\n",
       "            <td>103</td>\n",
       "            <td>Joseph</td>\n",
       "            <td>Lewis</td>\n",
       "            <td>Sales</td>\n",
       "            <td>98</td>\n",
       "        </tr>\n",
       "    </tbody>\n",
       "</table>"
      ],
      "text/plain": [
       "[(103, 'Joseph', 'Lewis', 'Sales', 98)]"
      ]
     },
     "execution_count": 16,
     "metadata": {},
     "output_type": "execute_result"
    }
   ],
   "source": [
    "%%sql\n",
    "-- BETWEEN (range) - inclusive\n",
    "SELECT * FROM Students\n",
    "WHERE grade BETWEEN 80 AND 95;\n",
    "-- IN\n",
    "SELECT * FROM Students\n",
    "WHERE department IN (\"Animation\", \"Business\"); \n",
    "-- LIKE [ % - matches any sequence of characters ; _ - matches a single character]\n",
    "-- ending substring\n",
    "SELECT * FROM Students\n",
    "WHERE first_name LIKE '%ard';\n",
    "-- starting substring\n",
    "SELECT * FROM Students\n",
    "WHERE first_name LIKE 'S%';\n",
    "-- contain\n",
    "SELECT * FROM Students\n",
    "WHERE first_name LIKE '%a%';\n",
    "-- character position [ _ will be characters of the string]\n",
    "SELECT * FROM Students\n",
    "WHERE first_name LIKE '_o%';"
   ]
  },
  {
   "cell_type": "code",
   "execution_count": 17,
   "metadata": {},
   "outputs": [
    {
     "name": "stdout",
     "output_type": "stream",
     "text": [
      " * sqlite:///sql-methods-database.db\n",
      "Done.\n"
     ]
    },
    {
     "data": {
      "text/html": [
       "<table>\n",
       "    <thead>\n",
       "        <tr>\n",
       "            <th>student_id</th>\n",
       "            <th>first_name</th>\n",
       "            <th>last_name</th>\n",
       "            <th>department</th>\n",
       "            <th>grade</th>\n",
       "        </tr>\n",
       "    </thead>\n",
       "    <tbody>\n",
       "        <tr>\n",
       "            <td>107</td>\n",
       "            <td>Susan</td>\n",
       "            <td>Martin</td>\n",
       "            <td>Marketing</td>\n",
       "            <td>95</td>\n",
       "        </tr>\n",
       "        <tr>\n",
       "            <td>108</td>\n",
       "            <td>Kenneth</td>\n",
       "            <td>Lee</td>\n",
       "            <td>IT</td>\n",
       "            <td>88.3</td>\n",
       "        </tr>\n",
       "    </tbody>\n",
       "</table>"
      ],
      "text/plain": [
       "[(107, 'Susan', 'Martin', 'Marketing', 95),\n",
       " (108, 'Kenneth', 'Lee', 'IT', 88.3)]"
      ]
     },
     "execution_count": 17,
     "metadata": {},
     "output_type": "execute_result"
    }
   ],
   "source": [
    "%%sql \n",
    "SELECT * FROM Students\n",
    "WHERE (department = \"Marketing\" AND grade > 80) \n",
    "    OR (department = \"IT\" AND grade > 85);"
   ]
  },
  {
   "cell_type": "markdown",
   "metadata": {},
   "source": [
    "Combined Operators"
   ]
  },
  {
   "cell_type": "code",
   "execution_count": 18,
   "metadata": {},
   "outputs": [
    {
     "name": "stdout",
     "output_type": "stream",
     "text": [
      " * sqlite:///sql-methods-database.db\n",
      "Done.\n"
     ]
    },
    {
     "data": {
      "text/html": [
       "<table>\n",
       "    <thead>\n",
       "        <tr>\n",
       "            <th>student_id</th>\n",
       "            <th>first_name</th>\n",
       "            <th>last_name</th>\n",
       "            <th>department</th>\n",
       "            <th>grade</th>\n",
       "        </tr>\n",
       "    </thead>\n",
       "    <tbody>\n",
       "        <tr>\n",
       "            <td>101</td>\n",
       "            <td>Richard</td>\n",
       "            <td>Davis</td>\n",
       "            <td>Animation</td>\n",
       "            <td>90.8</td>\n",
       "        </tr>\n",
       "        <tr>\n",
       "            <td>105</td>\n",
       "            <td>William</td>\n",
       "            <td>Lopez</td>\n",
       "            <td>Business</td>\n",
       "            <td>95</td>\n",
       "        </tr>\n",
       "        <tr>\n",
       "            <td>107</td>\n",
       "            <td>Susan</td>\n",
       "            <td>Martin</td>\n",
       "            <td>Marketing</td>\n",
       "            <td>95</td>\n",
       "        </tr>\n",
       "        <tr>\n",
       "            <td>110</td>\n",
       "            <td>Steven</td>\n",
       "            <td>Jackson</td>\n",
       "            <td>Business</td>\n",
       "            <td>88.3</td>\n",
       "        </tr>\n",
       "    </tbody>\n",
       "</table>"
      ],
      "text/plain": [
       "[(101, 'Richard', 'Davis', 'Animation', 90.8),\n",
       " (105, 'William', 'Lopez', 'Business', 95),\n",
       " (107, 'Susan', 'Martin', 'Marketing', 95),\n",
       " (110, 'Steven', 'Jackson', 'Business', 88.3)]"
      ]
     },
     "execution_count": 18,
     "metadata": {},
     "output_type": "execute_result"
    }
   ],
   "source": [
    "%%sql\n",
    "SELECT * FROM Students\n",
    "WHERE NOT department = \"Sales\"\n",
    "    AND (grade > 90 OR department = \"Business\");"
   ]
  },
  {
   "cell_type": "code",
   "execution_count": 19,
   "metadata": {},
   "outputs": [
    {
     "name": "stdout",
     "output_type": "stream",
     "text": [
      " * sqlite:///sql-methods-database.db\n",
      "Done.\n"
     ]
    },
    {
     "data": {
      "text/html": [
       "<table>\n",
       "    <thead>\n",
       "        <tr>\n",
       "            <th>student_id</th>\n",
       "            <th>first_name</th>\n",
       "            <th>last_name</th>\n",
       "            <th>department</th>\n",
       "            <th>grade</th>\n",
       "        </tr>\n",
       "    </thead>\n",
       "    <tbody>\n",
       "        <tr>\n",
       "            <td>108</td>\n",
       "            <td>Kenneth</td>\n",
       "            <td>Lee</td>\n",
       "            <td>IT</td>\n",
       "            <td>88.3</td>\n",
       "        </tr>\n",
       "        <tr>\n",
       "            <td>110</td>\n",
       "            <td>Steven</td>\n",
       "            <td>Jackson</td>\n",
       "            <td>Business</td>\n",
       "            <td>88.3</td>\n",
       "        </tr>\n",
       "    </tbody>\n",
       "</table>"
      ],
      "text/plain": [
       "[(108, 'Kenneth', 'Lee', 'IT', 88.3),\n",
       " (110, 'Steven', 'Jackson', 'Business', 88.3)]"
      ]
     },
     "execution_count": 19,
     "metadata": {},
     "output_type": "execute_result"
    }
   ],
   "source": [
    "%%sql \n",
    "SELECT * FROM Students\n",
    "WHERE grade BETWEEN 80 AND 90\n",
    "    AND department IN (\"IT\", \"Business\", \"Animation\")\n",
    "    AND first_name LIKE '%e%';"
   ]
  },
  {
   "cell_type": "markdown",
   "metadata": {},
   "source": [
    "---"
   ]
  },
  {
   "cell_type": "markdown",
   "metadata": {},
   "source": [
    "## ORDER BY\n",
    "The **ORDER BY** clause allows you to sort the results of your SELECT queries in either ascending or descending order. It lets you sort the retrieved data based on one or more columns, making it easier to analyze and interpret.\n",
    "\n",
    "    * **ASC:** Ascending Order (default)\n",
    "    * **DESC:** Descending Order\n",
    "      \n",
    "#### Syntax:\n",
    "```\n",
    "%%sql\n",
    "SELECT column1, column2, ...\n",
    "FROM table_name\n",
    "ORDER BY column_name1 ASC/DESC, column_name2 ASC/DESC, ... ;\n",
    "```"
   ]
  },
  {
   "cell_type": "code",
   "execution_count": 20,
   "metadata": {},
   "outputs": [
    {
     "name": "stdout",
     "output_type": "stream",
     "text": [
      " * sqlite:///sql-methods-database.db\n",
      "Done.\n",
      "Done.\n",
      "Done.\n",
      "Done.\n",
      "Done.\n"
     ]
    },
    {
     "data": {
      "text/html": [
       "<table>\n",
       "    <thead>\n",
       "        <tr>\n",
       "            <th>student_id</th>\n",
       "            <th>first_name</th>\n",
       "            <th>last_name</th>\n",
       "            <th>department</th>\n",
       "            <th>grade</th>\n",
       "        </tr>\n",
       "    </thead>\n",
       "    <tbody>\n",
       "        <tr>\n",
       "            <td>102</td>\n",
       "            <td>Linda</td>\n",
       "            <td>Clark</td>\n",
       "            <td>Marketing</td>\n",
       "            <td>75.4</td>\n",
       "        </tr>\n",
       "        <tr>\n",
       "            <td>105</td>\n",
       "            <td>William</td>\n",
       "            <td>Lopez</td>\n",
       "            <td>Business</td>\n",
       "            <td>95</td>\n",
       "        </tr>\n",
       "        <tr>\n",
       "            <td>110</td>\n",
       "            <td>Steven</td>\n",
       "            <td>Jackson</td>\n",
       "            <td>Business</td>\n",
       "            <td>88.3</td>\n",
       "        </tr>\n",
       "        <tr>\n",
       "            <td>108</td>\n",
       "            <td>Kenneth</td>\n",
       "            <td>Lee</td>\n",
       "            <td>IT</td>\n",
       "            <td>88.3</td>\n",
       "        </tr>\n",
       "        <tr>\n",
       "            <td>103</td>\n",
       "            <td>Joseph</td>\n",
       "            <td>Lewis</td>\n",
       "            <td>Sales</td>\n",
       "            <td>98</td>\n",
       "        </tr>\n",
       "        <tr>\n",
       "            <td>106</td>\n",
       "            <td>Barbara</td>\n",
       "            <td>Thompson</td>\n",
       "            <td>Accountancy</td>\n",
       "            <td>85</td>\n",
       "        </tr>\n",
       "        <tr>\n",
       "            <td>101</td>\n",
       "            <td>Richard</td>\n",
       "            <td>Davis</td>\n",
       "            <td>Animation</td>\n",
       "            <td>90.8</td>\n",
       "        </tr>\n",
       "        <tr>\n",
       "            <td>109</td>\n",
       "            <td>Amanda</td>\n",
       "            <td>White</td>\n",
       "            <td>Engineering</td>\n",
       "            <td>85</td>\n",
       "        </tr>\n",
       "        <tr>\n",
       "            <td>104</td>\n",
       "            <td>Elizabeth</td>\n",
       "            <td>Walker</td>\n",
       "            <td>IT</td>\n",
       "            <td>76.8</td>\n",
       "        </tr>\n",
       "        <tr>\n",
       "            <td>107</td>\n",
       "            <td>Susan</td>\n",
       "            <td>Martin</td>\n",
       "            <td>Marketing</td>\n",
       "            <td>95</td>\n",
       "        </tr>\n",
       "    </tbody>\n",
       "</table>"
      ],
      "text/plain": [
       "[(102, 'Linda', 'Clark', 'Marketing', 75.4),\n",
       " (105, 'William', 'Lopez', 'Business', 95),\n",
       " (110, 'Steven', 'Jackson', 'Business', 88.3),\n",
       " (108, 'Kenneth', 'Lee', 'IT', 88.3),\n",
       " (103, 'Joseph', 'Lewis', 'Sales', 98),\n",
       " (106, 'Barbara', 'Thompson', 'Accountancy', 85),\n",
       " (101, 'Richard', 'Davis', 'Animation', 90.8),\n",
       " (109, 'Amanda', 'White', 'Engineering', 85),\n",
       " (104, 'Elizabeth', 'Walker', 'IT', 76.8),\n",
       " (107, 'Susan', 'Martin', 'Marketing', 95)]"
      ]
     },
     "execution_count": 20,
     "metadata": {},
     "output_type": "execute_result"
    }
   ],
   "source": [
    "%%sql\n",
    "-- Sorting a Single Column\n",
    "SELECT * FROM Students\n",
    "ORDER BY last_name ASC;\n",
    "-- Sorting Multiple Columns\n",
    "SELECT * FROM Students\n",
    "ORDER BY department ASC, grade DESC;\n",
    "-- Sorting by Expressions\n",
    "SELECT * FROM Students\n",
    "WHERE (grade < 95) ORDER BY grade DESC;\n",
    "-- Sorting by Position\n",
    "SELECT * FROM Students\n",
    "ORDER BY 4 DESC;\n",
    "-- Sorting in Random Order\n",
    "SELECT * FROM Students\n",
    "ORDER BY RANDOM();"
   ]
  },
  {
   "cell_type": "code",
   "execution_count": 21,
   "metadata": {},
   "outputs": [
    {
     "name": "stdout",
     "output_type": "stream",
     "text": [
      " * sqlite:///sql-methods-database.db\n",
      "Done.\n"
     ]
    },
    {
     "data": {
      "text/html": [
       "<table>\n",
       "    <thead>\n",
       "        <tr>\n",
       "            <th>student_id</th>\n",
       "            <th>first_name</th>\n",
       "            <th>last_name</th>\n",
       "            <th>department</th>\n",
       "            <th>grade</th>\n",
       "        </tr>\n",
       "    </thead>\n",
       "    <tbody>\n",
       "        <tr>\n",
       "            <td>103</td>\n",
       "            <td>Joseph</td>\n",
       "            <td>Lewis</td>\n",
       "            <td>Sales</td>\n",
       "            <td>98</td>\n",
       "        </tr>\n",
       "        <tr>\n",
       "            <td>105</td>\n",
       "            <td>William</td>\n",
       "            <td>Lopez</td>\n",
       "            <td>Business</td>\n",
       "            <td>95</td>\n",
       "        </tr>\n",
       "        <tr>\n",
       "            <td>107</td>\n",
       "            <td>Susan</td>\n",
       "            <td>Martin</td>\n",
       "            <td>Marketing</td>\n",
       "            <td>95</td>\n",
       "        </tr>\n",
       "    </tbody>\n",
       "</table>"
      ],
      "text/plain": [
       "[(103, 'Joseph', 'Lewis', 'Sales', 98),\n",
       " (105, 'William', 'Lopez', 'Business', 95),\n",
       " (107, 'Susan', 'Martin', 'Marketing', 95)]"
      ]
     },
     "execution_count": 21,
     "metadata": {},
     "output_type": "execute_result"
    }
   ],
   "source": [
    "%%sql\n",
    "-- Return the Top 3 students with highest grades\n",
    "SELECT * FROM Students\n",
    "ORDER BY grade DESC\n",
    "LIMIT 3"
   ]
  },
  {
   "cell_type": "markdown",
   "metadata": {},
   "source": [
    "---"
   ]
  },
  {
   "cell_type": "markdown",
   "metadata": {},
   "source": [
    "## GROUP BY\n",
    "\n",
    "The **GROUP BY** clause is used to organize and summarize data by grouping rows with the same values in one or more columns. This helps you analyze trends, patterns, and aggregate statistics within your data.\n",
    "\n",
    "> Common Aggregate Functions:\n",
    "``` \n",
    "COUNT() , SUM() , AVG() , MAX() , MIN()\n",
    "```\n",
    "\n",
    "#### Syntax:\n",
    "```\n",
    "%%sql\n",
    "SELECT column1, column2, ..., aggregate_function(column_or_expression) AS alias\n",
    "FROM table_name\n",
    "WHERE condition (optional)\n",
    "GROUP BY column1, column2, ...;\n",
    "```"
   ]
  },
  {
   "cell_type": "code",
   "execution_count": 22,
   "metadata": {},
   "outputs": [
    {
     "name": "stdout",
     "output_type": "stream",
     "text": [
      " * sqlite:///sql-methods-database.db\n",
      "Done.\n",
      "Done.\n",
      "Done.\n",
      "Done.\n"
     ]
    },
    {
     "data": {
      "text/html": [
       "<table>\n",
       "    <thead>\n",
       "        <tr>\n",
       "            <th>department</th>\n",
       "            <th>Highest_grade</th>\n",
       "            <th>Lowest_grade</th>\n",
       "        </tr>\n",
       "    </thead>\n",
       "    <tbody>\n",
       "        <tr>\n",
       "            <td>Accountancy</td>\n",
       "            <td>85</td>\n",
       "            <td>85</td>\n",
       "        </tr>\n",
       "        <tr>\n",
       "            <td>Animation</td>\n",
       "            <td>90.8</td>\n",
       "            <td>90.8</td>\n",
       "        </tr>\n",
       "        <tr>\n",
       "            <td>Business</td>\n",
       "            <td>95</td>\n",
       "            <td>88.3</td>\n",
       "        </tr>\n",
       "        <tr>\n",
       "            <td>Engineering</td>\n",
       "            <td>85</td>\n",
       "            <td>85</td>\n",
       "        </tr>\n",
       "        <tr>\n",
       "            <td>IT</td>\n",
       "            <td>88.3</td>\n",
       "            <td>76.8</td>\n",
       "        </tr>\n",
       "        <tr>\n",
       "            <td>Marketing</td>\n",
       "            <td>95</td>\n",
       "            <td>75.4</td>\n",
       "        </tr>\n",
       "        <tr>\n",
       "            <td>Sales</td>\n",
       "            <td>98</td>\n",
       "            <td>98</td>\n",
       "        </tr>\n",
       "    </tbody>\n",
       "</table>"
      ],
      "text/plain": [
       "[('Accountancy', 85, 85),\n",
       " ('Animation', 90.8, 90.8),\n",
       " ('Business', 95, 88.3),\n",
       " ('Engineering', 85, 85),\n",
       " ('IT', 88.3, 76.8),\n",
       " ('Marketing', 95, 75.4),\n",
       " ('Sales', 98, 98)]"
      ]
     },
     "execution_count": 22,
     "metadata": {},
     "output_type": "execute_result"
    }
   ],
   "source": [
    "%%sql\n",
    "-- Grouping with COUNT()\n",
    "SELECT department, COUNT(*) as student_count\n",
    "FROM Students\n",
    "GROUP BY department;\n",
    "-- Grouping with SUM()\n",
    "SELECT department, SUM(grade) as total_grades\n",
    "FROM Students\n",
    "GROUP BY department;\n",
    "-- Grouping with AVG()\n",
    "SELECT department, AVG(grade) as average_grades\n",
    "FROM Students\n",
    "GROUP BY department;\n",
    "-- Grouping with MAX() and MIN()\n",
    "SELECT department,\n",
    "    MAX(grade) AS Highest_grade,\n",
    "    MIN(grade) AS Lowest_grade\n",
    "FROM Students\n",
    "GROUP BY department;"
   ]
  },
  {
   "cell_type": "markdown",
   "metadata": {},
   "source": [
    "---"
   ]
  },
  {
   "cell_type": "markdown",
   "metadata": {},
   "source": [
    "## HAVING\n",
    "The **HAVING** clause is used to filter groups of rows created by the GROUP BY clause based on conditions applied to aggregate functions. This allows you to focus on specific groups that meet certain criteria within your summarized data.\n",
    "##### Syntax:\n",
    "```\n",
    "%%sql\n",
    "SELECT column1, aggregate_function(column2), ...\n",
    "FROM table_name\n",
    "WHERE condition (optional)\n",
    "GROUP BY column_name1, column_name2, ...\n",
    "HAVING condition_on_aggregate_function;\n",
    "```"
   ]
  },
  {
   "cell_type": "code",
   "execution_count": 24,
   "metadata": {},
   "outputs": [
    {
     "name": "stdout",
     "output_type": "stream",
     "text": [
      " * sqlite:///sql-methods-database.db\n",
      "Done.\n",
      "Done.\n"
     ]
    },
    {
     "data": {
      "text/html": [
       "<table>\n",
       "    <thead>\n",
       "        <tr>\n",
       "            <th>department</th>\n",
       "            <th>Average_grade</th>\n",
       "        </tr>\n",
       "    </thead>\n",
       "    <tbody>\n",
       "        <tr>\n",
       "            <td>Sales</td>\n",
       "            <td>98.0</td>\n",
       "        </tr>\n",
       "    </tbody>\n",
       "</table>"
      ],
      "text/plain": [
       "[('Sales', 98.0)]"
      ]
     },
     "execution_count": 24,
     "metadata": {},
     "output_type": "execute_result"
    }
   ],
   "source": [
    "%%sql\n",
    "\n",
    "SELECT department, AVG(grade) AS Average_grade\n",
    "FROM Students\n",
    "GROUP BY department\n",
    "HAVING AVG(grade) > 85;\n",
    "\n",
    "SELECT department, AVG(grade) AS Average_grade\n",
    "FROM Students\n",
    "GROUP BY department\n",
    "HAVING COUNT(*) <= 5 AND AVG(grade) > 95;"
   ]
  },
  {
   "cell_type": "markdown",
   "metadata": {},
   "source": [
    "## JOIN\n",
    "The JOIN clause is used to combine rows from two or more tables based on a related column between them. It allows you to retrieve data from multiple tables simultaneously, creating a single result set.\n",
    "\n",
    "> **Types of Joins:**\n",
    "```\n",
    "Inner Join\n",
    "Left Join\n",
    "Right Join\n",
    "Full Join\n",
    "```\n",
    "##### Syntax:\n",
    "```\n",
    "%%sql\n",
    "SELECT column1_from_table1, column2_from_table2, ...\n",
    "FROM table1\n",
    "JOIN table2 ON table1.join_column = table2.join_column;\n",
    "```"
   ]
  },
  {
   "cell_type": "markdown",
   "metadata": {},
   "source": [
    "---"
   ]
  },
  {
   "cell_type": "markdown",
   "metadata": {},
   "source": []
  },
  {
   "cell_type": "code",
   "execution_count": 25,
   "metadata": {},
   "outputs": [
    {
     "name": "stdout",
     "output_type": "stream",
     "text": [
      " * sqlite:///sql-methods-database.db\n",
      "Done.\n"
     ]
    },
    {
     "data": {
      "text/plain": [
       "[]"
      ]
     },
     "execution_count": 25,
     "metadata": {},
     "output_type": "execute_result"
    }
   ],
   "source": [
    "%%sql \n",
    "CREATE TABLE IF NOT EXISTS departments (\n",
    "    department_id INT PRIMARY KEY\n",
    ");"
   ]
  },
  {
   "cell_type": "code",
   "execution_count": 26,
   "metadata": {},
   "outputs": [
    {
     "name": "stdout",
     "output_type": "stream",
     "text": [
      " * sqlite:///sql-methods-database.db\n",
      "Done.\n"
     ]
    },
    {
     "data": {
      "text/plain": [
       "[]"
      ]
     },
     "execution_count": 26,
     "metadata": {},
     "output_type": "execute_result"
    }
   ],
   "source": [
    "%%sql \n",
    "ALTER TABLE departments \n",
    "ADD department_name VARCHAR(50);"
   ]
  },
  {
   "cell_type": "code",
   "execution_count": 27,
   "metadata": {},
   "outputs": [
    {
     "name": "stdout",
     "output_type": "stream",
     "text": [
      " * sqlite:///sql-methods-database.db\n",
      "8 rows affected.\n"
     ]
    },
    {
     "data": {
      "text/plain": [
       "[]"
      ]
     },
     "execution_count": 27,
     "metadata": {},
     "output_type": "execute_result"
    }
   ],
   "source": [
    "%%sql\n",
    "INSERT INTO departments (department_id, department_name) \n",
    "VALUES (1, 'Accountancy'),\n",
    "    (2, 'Marketing'),\n",
    "    (3, 'Sales'),\n",
    "    (4, 'IT'),\n",
    "    (5, 'Animation'),\n",
    "    (6, 'Finance'),\n",
    "    (7, 'Business'),\n",
    "    (8, 'Engineering');"
   ]
  },
  {
   "cell_type": "code",
   "execution_count": 28,
   "metadata": {},
   "outputs": [
    {
     "name": "stdout",
     "output_type": "stream",
     "text": [
      " * sqlite:///sql-methods-database.db\n",
      "1 rows affected.\n"
     ]
    },
    {
     "data": {
      "text/plain": [
       "[]"
      ]
     },
     "execution_count": 28,
     "metadata": {},
     "output_type": "execute_result"
    }
   ],
   "source": [
    "%%sql\n",
    "INSERT INTO departments (department_id, department_name) \n",
    "VALUES (9, 'Social Services');"
   ]
  },
  {
   "cell_type": "code",
   "execution_count": 29,
   "metadata": {},
   "outputs": [
    {
     "name": "stdout",
     "output_type": "stream",
     "text": [
      " * sqlite:///sql-methods-database.db\n",
      "Done.\n"
     ]
    },
    {
     "data": {
      "text/html": [
       "<table>\n",
       "    <thead>\n",
       "        <tr>\n",
       "            <th>department_id</th>\n",
       "            <th>department_name</th>\n",
       "        </tr>\n",
       "    </thead>\n",
       "    <tbody>\n",
       "        <tr>\n",
       "            <td>1</td>\n",
       "            <td>Accountancy</td>\n",
       "        </tr>\n",
       "        <tr>\n",
       "            <td>2</td>\n",
       "            <td>Marketing</td>\n",
       "        </tr>\n",
       "        <tr>\n",
       "            <td>3</td>\n",
       "            <td>Sales</td>\n",
       "        </tr>\n",
       "        <tr>\n",
       "            <td>4</td>\n",
       "            <td>IT</td>\n",
       "        </tr>\n",
       "        <tr>\n",
       "            <td>5</td>\n",
       "            <td>Animation</td>\n",
       "        </tr>\n",
       "        <tr>\n",
       "            <td>6</td>\n",
       "            <td>Finance</td>\n",
       "        </tr>\n",
       "        <tr>\n",
       "            <td>7</td>\n",
       "            <td>Business</td>\n",
       "        </tr>\n",
       "        <tr>\n",
       "            <td>8</td>\n",
       "            <td>Engineering</td>\n",
       "        </tr>\n",
       "        <tr>\n",
       "            <td>9</td>\n",
       "            <td>Social Services</td>\n",
       "        </tr>\n",
       "    </tbody>\n",
       "</table>"
      ],
      "text/plain": [
       "[(1, 'Accountancy'),\n",
       " (2, 'Marketing'),\n",
       " (3, 'Sales'),\n",
       " (4, 'IT'),\n",
       " (5, 'Animation'),\n",
       " (6, 'Finance'),\n",
       " (7, 'Business'),\n",
       " (8, 'Engineering'),\n",
       " (9, 'Social Services')]"
      ]
     },
     "execution_count": 29,
     "metadata": {},
     "output_type": "execute_result"
    }
   ],
   "source": [
    "%sql SELECT * FROM departments;"
   ]
  },
  {
   "cell_type": "code",
   "execution_count": 30,
   "metadata": {},
   "outputs": [
    {
     "name": "stdout",
     "output_type": "stream",
     "text": [
      " * sqlite:///sql-methods-database.db\n",
      "1 rows affected.\n"
     ]
    },
    {
     "data": {
      "text/plain": [
       "[]"
      ]
     },
     "execution_count": 30,
     "metadata": {},
     "output_type": "execute_result"
    }
   ],
   "source": [
    "%%sql\n",
    "INSERT INTO Students (student_id, first_name, last_name, department, grade)\n",
    "VALUES (112, 'Meynard', 'Melo', NULL, 89);"
   ]
  },
  {
   "cell_type": "code",
   "execution_count": 33,
   "metadata": {},
   "outputs": [
    {
     "name": "stdout",
     "output_type": "stream",
     "text": [
      " * sqlite:///sql-methods-database.db\n",
      "Done.\n"
     ]
    },
    {
     "data": {
      "text/html": [
       "<table>\n",
       "    <thead>\n",
       "        <tr>\n",
       "            <th>student_id</th>\n",
       "            <th>first_name</th>\n",
       "            <th>last_name</th>\n",
       "            <th>department</th>\n",
       "            <th>grade</th>\n",
       "        </tr>\n",
       "    </thead>\n",
       "    <tbody>\n",
       "        <tr>\n",
       "            <td>101</td>\n",
       "            <td>Richard</td>\n",
       "            <td>Davis</td>\n",
       "            <td>Animation</td>\n",
       "            <td>90.8</td>\n",
       "        </tr>\n",
       "        <tr>\n",
       "            <td>102</td>\n",
       "            <td>Linda</td>\n",
       "            <td>Clark</td>\n",
       "            <td>Marketing</td>\n",
       "            <td>75.4</td>\n",
       "        </tr>\n",
       "        <tr>\n",
       "            <td>103</td>\n",
       "            <td>Joseph</td>\n",
       "            <td>Lewis</td>\n",
       "            <td>Sales</td>\n",
       "            <td>98</td>\n",
       "        </tr>\n",
       "        <tr>\n",
       "            <td>104</td>\n",
       "            <td>Elizabeth</td>\n",
       "            <td>Walker</td>\n",
       "            <td>IT</td>\n",
       "            <td>76.8</td>\n",
       "        </tr>\n",
       "        <tr>\n",
       "            <td>105</td>\n",
       "            <td>William</td>\n",
       "            <td>Lopez</td>\n",
       "            <td>Business</td>\n",
       "            <td>95</td>\n",
       "        </tr>\n",
       "        <tr>\n",
       "            <td>106</td>\n",
       "            <td>Barbara</td>\n",
       "            <td>Thompson</td>\n",
       "            <td>Accountancy</td>\n",
       "            <td>85</td>\n",
       "        </tr>\n",
       "        <tr>\n",
       "            <td>107</td>\n",
       "            <td>Susan</td>\n",
       "            <td>Martin</td>\n",
       "            <td>Marketing</td>\n",
       "            <td>95</td>\n",
       "        </tr>\n",
       "        <tr>\n",
       "            <td>108</td>\n",
       "            <td>Kenneth</td>\n",
       "            <td>Lee</td>\n",
       "            <td>IT</td>\n",
       "            <td>88.3</td>\n",
       "        </tr>\n",
       "        <tr>\n",
       "            <td>109</td>\n",
       "            <td>Amanda</td>\n",
       "            <td>White</td>\n",
       "            <td>Engineering</td>\n",
       "            <td>85</td>\n",
       "        </tr>\n",
       "        <tr>\n",
       "            <td>110</td>\n",
       "            <td>Steven</td>\n",
       "            <td>Jackson</td>\n",
       "            <td>Business</td>\n",
       "            <td>88.3</td>\n",
       "        </tr>\n",
       "        <tr>\n",
       "            <td>112</td>\n",
       "            <td>Meynard</td>\n",
       "            <td>Melo</td>\n",
       "            <td>None</td>\n",
       "            <td>89</td>\n",
       "        </tr>\n",
       "    </tbody>\n",
       "</table>"
      ],
      "text/plain": [
       "[(101, 'Richard', 'Davis', 'Animation', 90.8),\n",
       " (102, 'Linda', 'Clark', 'Marketing', 75.4),\n",
       " (103, 'Joseph', 'Lewis', 'Sales', 98),\n",
       " (104, 'Elizabeth', 'Walker', 'IT', 76.8),\n",
       " (105, 'William', 'Lopez', 'Business', 95),\n",
       " (106, 'Barbara', 'Thompson', 'Accountancy', 85),\n",
       " (107, 'Susan', 'Martin', 'Marketing', 95),\n",
       " (108, 'Kenneth', 'Lee', 'IT', 88.3),\n",
       " (109, 'Amanda', 'White', 'Engineering', 85),\n",
       " (110, 'Steven', 'Jackson', 'Business', 88.3),\n",
       " (112, 'Meynard', 'Melo', None, 89)]"
      ]
     },
     "execution_count": 33,
     "metadata": {},
     "output_type": "execute_result"
    }
   ],
   "source": [
    "%sql SELECT * FROM Students;"
   ]
  },
  {
   "cell_type": "markdown",
   "metadata": {},
   "source": [
    "### Inner Join\n",
    "The INNER JOIN returns rows where there is a match in both tables"
   ]
  },
  {
   "cell_type": "code",
   "execution_count": 32,
   "metadata": {},
   "outputs": [
    {
     "name": "stdout",
     "output_type": "stream",
     "text": [
      " * sqlite:///sql-methods-database.db\n",
      "Done.\n"
     ]
    },
    {
     "data": {
      "text/html": [
       "<table>\n",
       "    <thead>\n",
       "        <tr>\n",
       "            <th>student_id</th>\n",
       "            <th>first_name</th>\n",
       "            <th>last_name</th>\n",
       "            <th>department_name</th>\n",
       "        </tr>\n",
       "    </thead>\n",
       "    <tbody>\n",
       "        <tr>\n",
       "            <td>101</td>\n",
       "            <td>Richard</td>\n",
       "            <td>Davis</td>\n",
       "            <td>Animation</td>\n",
       "        </tr>\n",
       "        <tr>\n",
       "            <td>102</td>\n",
       "            <td>Linda</td>\n",
       "            <td>Clark</td>\n",
       "            <td>Marketing</td>\n",
       "        </tr>\n",
       "        <tr>\n",
       "            <td>103</td>\n",
       "            <td>Joseph</td>\n",
       "            <td>Lewis</td>\n",
       "            <td>Sales</td>\n",
       "        </tr>\n",
       "        <tr>\n",
       "            <td>104</td>\n",
       "            <td>Elizabeth</td>\n",
       "            <td>Walker</td>\n",
       "            <td>IT</td>\n",
       "        </tr>\n",
       "        <tr>\n",
       "            <td>105</td>\n",
       "            <td>William</td>\n",
       "            <td>Lopez</td>\n",
       "            <td>Business</td>\n",
       "        </tr>\n",
       "        <tr>\n",
       "            <td>106</td>\n",
       "            <td>Barbara</td>\n",
       "            <td>Thompson</td>\n",
       "            <td>Accountancy</td>\n",
       "        </tr>\n",
       "        <tr>\n",
       "            <td>107</td>\n",
       "            <td>Susan</td>\n",
       "            <td>Martin</td>\n",
       "            <td>Marketing</td>\n",
       "        </tr>\n",
       "        <tr>\n",
       "            <td>108</td>\n",
       "            <td>Kenneth</td>\n",
       "            <td>Lee</td>\n",
       "            <td>IT</td>\n",
       "        </tr>\n",
       "        <tr>\n",
       "            <td>109</td>\n",
       "            <td>Amanda</td>\n",
       "            <td>White</td>\n",
       "            <td>Engineering</td>\n",
       "        </tr>\n",
       "        <tr>\n",
       "            <td>110</td>\n",
       "            <td>Steven</td>\n",
       "            <td>Jackson</td>\n",
       "            <td>Business</td>\n",
       "        </tr>\n",
       "    </tbody>\n",
       "</table>"
      ],
      "text/plain": [
       "[(101, 'Richard', 'Davis', 'Animation'),\n",
       " (102, 'Linda', 'Clark', 'Marketing'),\n",
       " (103, 'Joseph', 'Lewis', 'Sales'),\n",
       " (104, 'Elizabeth', 'Walker', 'IT'),\n",
       " (105, 'William', 'Lopez', 'Business'),\n",
       " (106, 'Barbara', 'Thompson', 'Accountancy'),\n",
       " (107, 'Susan', 'Martin', 'Marketing'),\n",
       " (108, 'Kenneth', 'Lee', 'IT'),\n",
       " (109, 'Amanda', 'White', 'Engineering'),\n",
       " (110, 'Steven', 'Jackson', 'Business')]"
      ]
     },
     "execution_count": 32,
     "metadata": {},
     "output_type": "execute_result"
    }
   ],
   "source": [
    "%%sql\n",
    "SELECT student_id, first_name, last_name, department_name\n",
    "FROM Students\n",
    "INNER JOIN departments ON Students.department = departments.department_name;"
   ]
  },
  {
   "cell_type": "markdown",
   "metadata": {},
   "source": [
    "### Left Join\n",
    "Returns all rows from the left table and the matched rows from the right table. If there's no match, NULL values are filled in for columns from the right table."
   ]
  },
  {
   "cell_type": "code",
   "execution_count": 35,
   "metadata": {},
   "outputs": [
    {
     "name": "stdout",
     "output_type": "stream",
     "text": [
      " * sqlite:///sql-methods-database.db\n",
      "Done.\n"
     ]
    },
    {
     "data": {
      "text/html": [
       "<table>\n",
       "    <thead>\n",
       "        <tr>\n",
       "            <th>student_id</th>\n",
       "            <th>first_name</th>\n",
       "            <th>last_name</th>\n",
       "            <th>department_name</th>\n",
       "        </tr>\n",
       "    </thead>\n",
       "    <tbody>\n",
       "        <tr>\n",
       "            <td>101</td>\n",
       "            <td>Richard</td>\n",
       "            <td>Davis</td>\n",
       "            <td>Animation</td>\n",
       "        </tr>\n",
       "        <tr>\n",
       "            <td>102</td>\n",
       "            <td>Linda</td>\n",
       "            <td>Clark</td>\n",
       "            <td>Marketing</td>\n",
       "        </tr>\n",
       "        <tr>\n",
       "            <td>103</td>\n",
       "            <td>Joseph</td>\n",
       "            <td>Lewis</td>\n",
       "            <td>Sales</td>\n",
       "        </tr>\n",
       "        <tr>\n",
       "            <td>104</td>\n",
       "            <td>Elizabeth</td>\n",
       "            <td>Walker</td>\n",
       "            <td>IT</td>\n",
       "        </tr>\n",
       "        <tr>\n",
       "            <td>105</td>\n",
       "            <td>William</td>\n",
       "            <td>Lopez</td>\n",
       "            <td>Business</td>\n",
       "        </tr>\n",
       "        <tr>\n",
       "            <td>106</td>\n",
       "            <td>Barbara</td>\n",
       "            <td>Thompson</td>\n",
       "            <td>Accountancy</td>\n",
       "        </tr>\n",
       "        <tr>\n",
       "            <td>107</td>\n",
       "            <td>Susan</td>\n",
       "            <td>Martin</td>\n",
       "            <td>Marketing</td>\n",
       "        </tr>\n",
       "        <tr>\n",
       "            <td>108</td>\n",
       "            <td>Kenneth</td>\n",
       "            <td>Lee</td>\n",
       "            <td>IT</td>\n",
       "        </tr>\n",
       "        <tr>\n",
       "            <td>109</td>\n",
       "            <td>Amanda</td>\n",
       "            <td>White</td>\n",
       "            <td>Engineering</td>\n",
       "        </tr>\n",
       "        <tr>\n",
       "            <td>110</td>\n",
       "            <td>Steven</td>\n",
       "            <td>Jackson</td>\n",
       "            <td>Business</td>\n",
       "        </tr>\n",
       "        <tr>\n",
       "            <td>112</td>\n",
       "            <td>Meynard</td>\n",
       "            <td>Melo</td>\n",
       "            <td>None</td>\n",
       "        </tr>\n",
       "    </tbody>\n",
       "</table>"
      ],
      "text/plain": [
       "[(101, 'Richard', 'Davis', 'Animation'),\n",
       " (102, 'Linda', 'Clark', 'Marketing'),\n",
       " (103, 'Joseph', 'Lewis', 'Sales'),\n",
       " (104, 'Elizabeth', 'Walker', 'IT'),\n",
       " (105, 'William', 'Lopez', 'Business'),\n",
       " (106, 'Barbara', 'Thompson', 'Accountancy'),\n",
       " (107, 'Susan', 'Martin', 'Marketing'),\n",
       " (108, 'Kenneth', 'Lee', 'IT'),\n",
       " (109, 'Amanda', 'White', 'Engineering'),\n",
       " (110, 'Steven', 'Jackson', 'Business'),\n",
       " (112, 'Meynard', 'Melo', None)]"
      ]
     },
     "execution_count": 35,
     "metadata": {},
     "output_type": "execute_result"
    }
   ],
   "source": [
    "%%sql\n",
    "\n",
    "-- Gets all table A,  \n",
    "SELECT s.student_id, s.first_name, s.last_name, d.department_name\n",
    "FROM Students s\n",
    "LEFT JOIN departments d ON s.department = d.department_name;"
   ]
  },
  {
   "cell_type": "markdown",
   "metadata": {},
   "source": [
    "### Right Join\n",
    "This query will return all departments from the Departments table, even if there are no students currently enrolled in them. Unmatched students will have NULL values in the student columns."
   ]
  },
  {
   "cell_type": "code",
   "execution_count": 36,
   "metadata": {},
   "outputs": [
    {
     "name": "stdout",
     "output_type": "stream",
     "text": [
      " * sqlite:///sql-methods-database.db\n",
      "Done.\n"
     ]
    },
    {
     "data": {
      "text/html": [
       "<table>\n",
       "    <thead>\n",
       "        <tr>\n",
       "            <th>student_id</th>\n",
       "            <th>first_name</th>\n",
       "            <th>last_name</th>\n",
       "            <th>department_name</th>\n",
       "        </tr>\n",
       "    </thead>\n",
       "    <tbody>\n",
       "        <tr>\n",
       "            <td>101</td>\n",
       "            <td>Richard</td>\n",
       "            <td>Davis</td>\n",
       "            <td>Animation</td>\n",
       "        </tr>\n",
       "        <tr>\n",
       "            <td>102</td>\n",
       "            <td>Linda</td>\n",
       "            <td>Clark</td>\n",
       "            <td>Marketing</td>\n",
       "        </tr>\n",
       "        <tr>\n",
       "            <td>103</td>\n",
       "            <td>Joseph</td>\n",
       "            <td>Lewis</td>\n",
       "            <td>Sales</td>\n",
       "        </tr>\n",
       "        <tr>\n",
       "            <td>104</td>\n",
       "            <td>Elizabeth</td>\n",
       "            <td>Walker</td>\n",
       "            <td>IT</td>\n",
       "        </tr>\n",
       "        <tr>\n",
       "            <td>105</td>\n",
       "            <td>William</td>\n",
       "            <td>Lopez</td>\n",
       "            <td>Business</td>\n",
       "        </tr>\n",
       "        <tr>\n",
       "            <td>106</td>\n",
       "            <td>Barbara</td>\n",
       "            <td>Thompson</td>\n",
       "            <td>Accountancy</td>\n",
       "        </tr>\n",
       "        <tr>\n",
       "            <td>107</td>\n",
       "            <td>Susan</td>\n",
       "            <td>Martin</td>\n",
       "            <td>Marketing</td>\n",
       "        </tr>\n",
       "        <tr>\n",
       "            <td>108</td>\n",
       "            <td>Kenneth</td>\n",
       "            <td>Lee</td>\n",
       "            <td>IT</td>\n",
       "        </tr>\n",
       "        <tr>\n",
       "            <td>109</td>\n",
       "            <td>Amanda</td>\n",
       "            <td>White</td>\n",
       "            <td>Engineering</td>\n",
       "        </tr>\n",
       "        <tr>\n",
       "            <td>110</td>\n",
       "            <td>Steven</td>\n",
       "            <td>Jackson</td>\n",
       "            <td>Business</td>\n",
       "        </tr>\n",
       "        <tr>\n",
       "            <td>None</td>\n",
       "            <td>None</td>\n",
       "            <td>None</td>\n",
       "            <td>Finance</td>\n",
       "        </tr>\n",
       "        <tr>\n",
       "            <td>None</td>\n",
       "            <td>None</td>\n",
       "            <td>None</td>\n",
       "            <td>Social Services</td>\n",
       "        </tr>\n",
       "    </tbody>\n",
       "</table>"
      ],
      "text/plain": [
       "[(101, 'Richard', 'Davis', 'Animation'),\n",
       " (102, 'Linda', 'Clark', 'Marketing'),\n",
       " (103, 'Joseph', 'Lewis', 'Sales'),\n",
       " (104, 'Elizabeth', 'Walker', 'IT'),\n",
       " (105, 'William', 'Lopez', 'Business'),\n",
       " (106, 'Barbara', 'Thompson', 'Accountancy'),\n",
       " (107, 'Susan', 'Martin', 'Marketing'),\n",
       " (108, 'Kenneth', 'Lee', 'IT'),\n",
       " (109, 'Amanda', 'White', 'Engineering'),\n",
       " (110, 'Steven', 'Jackson', 'Business'),\n",
       " (None, None, None, 'Finance'),\n",
       " (None, None, None, 'Social Services')]"
      ]
     },
     "execution_count": 36,
     "metadata": {},
     "output_type": "execute_result"
    }
   ],
   "source": [
    "%%sql \n",
    "SELECT s.student_id, s.first_name, s.last_name, d.department_name\n",
    "FROM Students s\n",
    "RIGHT JOIN departments d ON s.department = d.department_name;"
   ]
  },
  {
   "cell_type": "markdown",
   "metadata": {},
   "source": [
    "### FULL JOIN\n",
    "This query will return all records from both tables, regardless of whether there's a match in the join condition. Unmatched departments or students will have NULL values in the corresponding columns."
   ]
  },
  {
   "cell_type": "code",
   "execution_count": 37,
   "metadata": {},
   "outputs": [
    {
     "name": "stdout",
     "output_type": "stream",
     "text": [
      " * sqlite:///sql-methods-database.db\n",
      "Done.\n"
     ]
    },
    {
     "data": {
      "text/html": [
       "<table>\n",
       "    <thead>\n",
       "        <tr>\n",
       "            <th>student_id</th>\n",
       "            <th>first_name</th>\n",
       "            <th>last_name</th>\n",
       "            <th>department_name</th>\n",
       "        </tr>\n",
       "    </thead>\n",
       "    <tbody>\n",
       "        <tr>\n",
       "            <td>101</td>\n",
       "            <td>Richard</td>\n",
       "            <td>Davis</td>\n",
       "            <td>Animation</td>\n",
       "        </tr>\n",
       "        <tr>\n",
       "            <td>102</td>\n",
       "            <td>Linda</td>\n",
       "            <td>Clark</td>\n",
       "            <td>Marketing</td>\n",
       "        </tr>\n",
       "        <tr>\n",
       "            <td>103</td>\n",
       "            <td>Joseph</td>\n",
       "            <td>Lewis</td>\n",
       "            <td>Sales</td>\n",
       "        </tr>\n",
       "        <tr>\n",
       "            <td>104</td>\n",
       "            <td>Elizabeth</td>\n",
       "            <td>Walker</td>\n",
       "            <td>IT</td>\n",
       "        </tr>\n",
       "        <tr>\n",
       "            <td>105</td>\n",
       "            <td>William</td>\n",
       "            <td>Lopez</td>\n",
       "            <td>Business</td>\n",
       "        </tr>\n",
       "        <tr>\n",
       "            <td>106</td>\n",
       "            <td>Barbara</td>\n",
       "            <td>Thompson</td>\n",
       "            <td>Accountancy</td>\n",
       "        </tr>\n",
       "        <tr>\n",
       "            <td>107</td>\n",
       "            <td>Susan</td>\n",
       "            <td>Martin</td>\n",
       "            <td>Marketing</td>\n",
       "        </tr>\n",
       "        <tr>\n",
       "            <td>108</td>\n",
       "            <td>Kenneth</td>\n",
       "            <td>Lee</td>\n",
       "            <td>IT</td>\n",
       "        </tr>\n",
       "        <tr>\n",
       "            <td>109</td>\n",
       "            <td>Amanda</td>\n",
       "            <td>White</td>\n",
       "            <td>Engineering</td>\n",
       "        </tr>\n",
       "        <tr>\n",
       "            <td>110</td>\n",
       "            <td>Steven</td>\n",
       "            <td>Jackson</td>\n",
       "            <td>Business</td>\n",
       "        </tr>\n",
       "        <tr>\n",
       "            <td>112</td>\n",
       "            <td>Meynard</td>\n",
       "            <td>Melo</td>\n",
       "            <td>None</td>\n",
       "        </tr>\n",
       "        <tr>\n",
       "            <td>None</td>\n",
       "            <td>None</td>\n",
       "            <td>None</td>\n",
       "            <td>Finance</td>\n",
       "        </tr>\n",
       "        <tr>\n",
       "            <td>None</td>\n",
       "            <td>None</td>\n",
       "            <td>None</td>\n",
       "            <td>Social Services</td>\n",
       "        </tr>\n",
       "    </tbody>\n",
       "</table>"
      ],
      "text/plain": [
       "[(101, 'Richard', 'Davis', 'Animation'),\n",
       " (102, 'Linda', 'Clark', 'Marketing'),\n",
       " (103, 'Joseph', 'Lewis', 'Sales'),\n",
       " (104, 'Elizabeth', 'Walker', 'IT'),\n",
       " (105, 'William', 'Lopez', 'Business'),\n",
       " (106, 'Barbara', 'Thompson', 'Accountancy'),\n",
       " (107, 'Susan', 'Martin', 'Marketing'),\n",
       " (108, 'Kenneth', 'Lee', 'IT'),\n",
       " (109, 'Amanda', 'White', 'Engineering'),\n",
       " (110, 'Steven', 'Jackson', 'Business'),\n",
       " (112, 'Meynard', 'Melo', None),\n",
       " (None, None, None, 'Finance'),\n",
       " (None, None, None, 'Social Services')]"
      ]
     },
     "execution_count": 37,
     "metadata": {},
     "output_type": "execute_result"
    }
   ],
   "source": [
    "%%sql\n",
    "SELECT s.student_id, s.first_name, s.last_name, d.department_name\n",
    "FROM Students s\n",
    "FULL JOIN departments d ON s.department = d.department_name;"
   ]
  },
  {
   "cell_type": "markdown",
   "metadata": {},
   "source": [
    "---"
   ]
  },
  {
   "cell_type": "markdown",
   "metadata": {},
   "source": [
    "## CASE ... WHEN\n",
    "\n",
    "The **CASE...WHEN** statement allows you to conditionally assign values to a column based on specific criteria. It's like creating an if-else logic within your SQL query.\n",
    "\n",
    "##### Syntax:\n",
    "```\n",
    "%%sql\n",
    "SELECT\n",
    "  CASE WHEN condition1 THEN value1\n",
    "       WHEN condition2 THEN value2\n",
    "       ...\n",
    "       ELSE value_else\n",
    "  END AS new_column_name\n",
    "FROM table_name;\n",
    "```"
   ]
  },
  {
   "cell_type": "code",
   "execution_count": 39,
   "metadata": {},
   "outputs": [
    {
     "name": "stdout",
     "output_type": "stream",
     "text": [
      " * sqlite:///sql-methods-database.db\n",
      "Done.\n"
     ]
    },
    {
     "data": {
      "text/html": [
       "<table>\n",
       "    <thead>\n",
       "        <tr>\n",
       "            <th>student_id</th>\n",
       "            <th>first_name</th>\n",
       "            <th>last_name</th>\n",
       "            <th>grade</th>\n",
       "            <th>grade_category</th>\n",
       "        </tr>\n",
       "    </thead>\n",
       "    <tbody>\n",
       "        <tr>\n",
       "            <td>101</td>\n",
       "            <td>Richard</td>\n",
       "            <td>Davis</td>\n",
       "            <td>90.8</td>\n",
       "            <td>Excellent</td>\n",
       "        </tr>\n",
       "        <tr>\n",
       "            <td>102</td>\n",
       "            <td>Linda</td>\n",
       "            <td>Clark</td>\n",
       "            <td>75.4</td>\n",
       "            <td>Average</td>\n",
       "        </tr>\n",
       "        <tr>\n",
       "            <td>103</td>\n",
       "            <td>Joseph</td>\n",
       "            <td>Lewis</td>\n",
       "            <td>98</td>\n",
       "            <td>Excellent</td>\n",
       "        </tr>\n",
       "        <tr>\n",
       "            <td>104</td>\n",
       "            <td>Elizabeth</td>\n",
       "            <td>Walker</td>\n",
       "            <td>76.8</td>\n",
       "            <td>Average</td>\n",
       "        </tr>\n",
       "        <tr>\n",
       "            <td>105</td>\n",
       "            <td>William</td>\n",
       "            <td>Lopez</td>\n",
       "            <td>95</td>\n",
       "            <td>Excellent</td>\n",
       "        </tr>\n",
       "        <tr>\n",
       "            <td>106</td>\n",
       "            <td>Barbara</td>\n",
       "            <td>Thompson</td>\n",
       "            <td>85</td>\n",
       "            <td>Good</td>\n",
       "        </tr>\n",
       "        <tr>\n",
       "            <td>107</td>\n",
       "            <td>Susan</td>\n",
       "            <td>Martin</td>\n",
       "            <td>95</td>\n",
       "            <td>Excellent</td>\n",
       "        </tr>\n",
       "        <tr>\n",
       "            <td>108</td>\n",
       "            <td>Kenneth</td>\n",
       "            <td>Lee</td>\n",
       "            <td>88.3</td>\n",
       "            <td>Good</td>\n",
       "        </tr>\n",
       "        <tr>\n",
       "            <td>109</td>\n",
       "            <td>Amanda</td>\n",
       "            <td>White</td>\n",
       "            <td>85</td>\n",
       "            <td>Good</td>\n",
       "        </tr>\n",
       "        <tr>\n",
       "            <td>110</td>\n",
       "            <td>Steven</td>\n",
       "            <td>Jackson</td>\n",
       "            <td>88.3</td>\n",
       "            <td>Good</td>\n",
       "        </tr>\n",
       "        <tr>\n",
       "            <td>112</td>\n",
       "            <td>Meynard</td>\n",
       "            <td>Melo</td>\n",
       "            <td>89</td>\n",
       "            <td>Good</td>\n",
       "        </tr>\n",
       "    </tbody>\n",
       "</table>"
      ],
      "text/plain": [
       "[(101, 'Richard', 'Davis', 90.8, 'Excellent'),\n",
       " (102, 'Linda', 'Clark', 75.4, 'Average'),\n",
       " (103, 'Joseph', 'Lewis', 98, 'Excellent'),\n",
       " (104, 'Elizabeth', 'Walker', 76.8, 'Average'),\n",
       " (105, 'William', 'Lopez', 95, 'Excellent'),\n",
       " (106, 'Barbara', 'Thompson', 85, 'Good'),\n",
       " (107, 'Susan', 'Martin', 95, 'Excellent'),\n",
       " (108, 'Kenneth', 'Lee', 88.3, 'Good'),\n",
       " (109, 'Amanda', 'White', 85, 'Good'),\n",
       " (110, 'Steven', 'Jackson', 88.3, 'Good'),\n",
       " (112, 'Meynard', 'Melo', 89, 'Good')]"
      ]
     },
     "execution_count": 39,
     "metadata": {},
     "output_type": "execute_result"
    }
   ],
   "source": [
    "%%sql \n",
    "SELECT student_id, first_name, last_name, grade,\n",
    "    CASE\n",
    "        WHEN grade >= 90 THEN 'Excellent'\n",
    "        WHEN grade >= 80 AND grade < 90 THEN 'Good'\n",
    "        WHEN grade >= 70 AND grade < 80 THEN 'Average'\n",
    "        ELSE 'Needs Improvement'\n",
    "    END AS grade_category\n",
    "FROM Students"
   ]
  },
  {
   "cell_type": "code",
   "execution_count": null,
   "metadata": {},
   "outputs": [],
   "source": []
  },
  {
   "cell_type": "code",
   "execution_count": null,
   "metadata": {},
   "outputs": [],
   "source": []
  },
  {
   "cell_type": "code",
   "execution_count": null,
   "metadata": {},
   "outputs": [],
   "source": []
  },
  {
   "cell_type": "code",
   "execution_count": null,
   "metadata": {},
   "outputs": [],
   "source": []
  },
  {
   "cell_type": "code",
   "execution_count": null,
   "metadata": {},
   "outputs": [],
   "source": []
  },
  {
   "cell_type": "code",
   "execution_count": 2,
   "metadata": {},
   "outputs": [],
   "source": [
    "%load_ext sql"
   ]
  },
  {
   "cell_type": "code",
   "execution_count": 3,
   "metadata": {},
   "outputs": [],
   "source": [
    "%sql sqlite:///sql-methods-database.db"
   ]
  },
  {
   "cell_type": "code",
   "execution_count": 4,
   "metadata": {},
   "outputs": [
    {
     "name": "stdout",
     "output_type": "stream",
     "text": [
      " * sqlite:///sql-methods-database.db\n",
      "Done.\n"
     ]
    },
    {
     "data": {
      "text/plain": [
       "[]"
      ]
     },
     "execution_count": 4,
     "metadata": {},
     "output_type": "execute_result"
    }
   ],
   "source": [
    "%%sql\n",
    "CREATE TABLE IF NOT EXISTS Students (\n",
    "    student_id INT PRIMARY KEY,\n",
    "    first_name VARCHAR(50) NOT NULL,\n",
    "    last_name VARCHAR(50) NOT NULL,\n",
    "    department VARCHAR(50),\n",
    "    grade DECIMAL(3, 2) NOT NULL\n",
    ");"
   ]
  },
  {
   "cell_type": "code",
   "execution_count": 5,
   "metadata": {},
   "outputs": [
    {
     "name": "stdout",
     "output_type": "stream",
     "text": [
      " * sqlite:///sql-methods-database.db\n",
      "10 rows affected.\n"
     ]
    },
    {
     "data": {
      "text/plain": [
       "[]"
      ]
     },
     "execution_count": 5,
     "metadata": {},
     "output_type": "execute_result"
    }
   ],
   "source": [
    "%%sql\n",
    "INSERT INTO Students (student_id, first_name, last_name, department, grade) \n",
    "VALUES (101, 'Richard', 'Davis', 'Animation', 90.8),\n",
    "        (102, 'Linda', 'Clark', 'Marketing', 75.4),\n",
    "        (103, 'Joseph', 'Lewis', 'Sales', 98),\n",
    "        (104, 'Elizabeth', 'Walker', 'IT', 76.8),\n",
    "        (105, 'William', 'Lopez', 'Business', 95),\n",
    "        (106, 'Barbara', 'Thompson', 'Accountancy', 85),\n",
    "        (107, 'Susan', 'Martin', 'Marketing', 95),\n",
    "        (108, 'Kenneth', 'Lee', 'IT', 88.3),\n",
    "        (109, 'Amanda', 'White', 'Engineering', 85),\n",
    "        (110, 'Steven', 'Jackson', 'Business', 88.3);"
   ]
  },
  {
   "cell_type": "code",
   "execution_count": 6,
   "metadata": {},
   "outputs": [
    {
     "name": "stdout",
     "output_type": "stream",
     "text": [
      " * sqlite:///sql-methods-database.db\n",
      "Done.\n"
     ]
    },
    {
     "data": {
      "text/html": [
       "<table>\n",
       "    <thead>\n",
       "        <tr>\n",
       "            <th>student_id</th>\n",
       "            <th>first_name</th>\n",
       "            <th>last_name</th>\n",
       "            <th>department</th>\n",
       "            <th>grade</th>\n",
       "        </tr>\n",
       "    </thead>\n",
       "    <tbody>\n",
       "        <tr>\n",
       "            <td>101</td>\n",
       "            <td>Richard</td>\n",
       "            <td>Davis</td>\n",
       "            <td>Animation</td>\n",
       "            <td>90.8</td>\n",
       "        </tr>\n",
       "        <tr>\n",
       "            <td>102</td>\n",
       "            <td>Linda</td>\n",
       "            <td>Clark</td>\n",
       "            <td>Marketing</td>\n",
       "            <td>75.4</td>\n",
       "        </tr>\n",
       "        <tr>\n",
       "            <td>103</td>\n",
       "            <td>Joseph</td>\n",
       "            <td>Lewis</td>\n",
       "            <td>Sales</td>\n",
       "            <td>98</td>\n",
       "        </tr>\n",
       "        <tr>\n",
       "            <td>104</td>\n",
       "            <td>Elizabeth</td>\n",
       "            <td>Walker</td>\n",
       "            <td>IT</td>\n",
       "            <td>76.8</td>\n",
       "        </tr>\n",
       "        <tr>\n",
       "            <td>105</td>\n",
       "            <td>William</td>\n",
       "            <td>Lopez</td>\n",
       "            <td>Business</td>\n",
       "            <td>95</td>\n",
       "        </tr>\n",
       "        <tr>\n",
       "            <td>106</td>\n",
       "            <td>Barbara</td>\n",
       "            <td>Thompson</td>\n",
       "            <td>Accountancy</td>\n",
       "            <td>85</td>\n",
       "        </tr>\n",
       "        <tr>\n",
       "            <td>107</td>\n",
       "            <td>Susan</td>\n",
       "            <td>Martin</td>\n",
       "            <td>Marketing</td>\n",
       "            <td>95</td>\n",
       "        </tr>\n",
       "        <tr>\n",
       "            <td>108</td>\n",
       "            <td>Kenneth</td>\n",
       "            <td>Lee</td>\n",
       "            <td>IT</td>\n",
       "            <td>88.3</td>\n",
       "        </tr>\n",
       "        <tr>\n",
       "            <td>109</td>\n",
       "            <td>Amanda</td>\n",
       "            <td>White</td>\n",
       "            <td>Engineering</td>\n",
       "            <td>85</td>\n",
       "        </tr>\n",
       "        <tr>\n",
       "            <td>110</td>\n",
       "            <td>Steven</td>\n",
       "            <td>Jackson</td>\n",
       "            <td>Business</td>\n",
       "            <td>88.3</td>\n",
       "        </tr>\n",
       "    </tbody>\n",
       "</table>"
      ],
      "text/plain": [
       "[(101, 'Richard', 'Davis', 'Animation', 90.8),\n",
       " (102, 'Linda', 'Clark', 'Marketing', 75.4),\n",
       " (103, 'Joseph', 'Lewis', 'Sales', 98),\n",
       " (104, 'Elizabeth', 'Walker', 'IT', 76.8),\n",
       " (105, 'William', 'Lopez', 'Business', 95),\n",
       " (106, 'Barbara', 'Thompson', 'Accountancy', 85),\n",
       " (107, 'Susan', 'Martin', 'Marketing', 95),\n",
       " (108, 'Kenneth', 'Lee', 'IT', 88.3),\n",
       " (109, 'Amanda', 'White', 'Engineering', 85),\n",
       " (110, 'Steven', 'Jackson', 'Business', 88.3)]"
      ]
     },
     "execution_count": 6,
     "metadata": {},
     "output_type": "execute_result"
    }
   ],
   "source": [
    "%sql SELECT * FROM Students;"
   ]
  },
  {
   "cell_type": "code",
   "execution_count": null,
   "metadata": {},
   "outputs": [],
   "source": []
  },
  {
   "cell_type": "code",
   "execution_count": null,
   "metadata": {},
   "outputs": [],
   "source": []
  },
  {
   "cell_type": "code",
   "execution_count": null,
   "metadata": {},
   "outputs": [],
   "source": []
  },
  {
   "cell_type": "markdown",
   "metadata": {},
   "source": []
  }
 ],
 "metadata": {
  "kernelspec": {
   "display_name": "venv",
   "language": "python",
   "name": "python3"
  },
  "language_info": {
   "codemirror_mode": {
    "name": "ipython",
    "version": 3
   },
   "file_extension": ".py",
   "mimetype": "text/x-python",
   "name": "python",
   "nbconvert_exporter": "python",
   "pygments_lexer": "ipython3",
   "version": "3.12.3"
  }
 },
 "nbformat": 4,
 "nbformat_minor": 2
}
