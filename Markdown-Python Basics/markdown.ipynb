{
 "cells": [
  {
   "cell_type": "markdown",
   "metadata": {},
   "source": [
    "- **Shift + Enter**: Execute the current cell and move to the next one.\n",
    "- **Ctrl + Enter**: Execute the current cell and remain in the same cell.\n",
    "- **Esc**: Enter command mode, allowing for navigation and execution commands.\n",
    "- **Enter**: Enter edit mode for the currently selected cell.\n",
    "- **A (in command mode)**: Insert a new cell above the current cell.\n",
    "- **B (in command mode)**: Insert a new cell below the current cell.\n",
    "- **M (in command mode)**: Change the current cell to a Markdown cell.\n",
    "- **Y (in command mode)**: Change the current cell to a Code cell."
   ]
  },
  {
   "cell_type": "markdown",
   "metadata": {},
   "source": [
    "### What is Markdown?\n",
    "\n",
    "- markup language with plain-text format.\n",
    "- used for creating documentation, writing README files for projects, writing emails."
   ]
  },
  {
   "cell_type": "markdown",
   "metadata": {},
   "source": [
    "### Basic Markdown Syntax\n",
    "Headings - (#)\n",
    "# Heading 1 - Title\n",
    "## Heading 2 - Subtitle\n",
    "### Heading 3 - Subheading\n",
    "#### Heading 4 - 4th level subheading\n",
    "##### Heading 5\n",
    "###### Heading 6"
   ]
  },
  {
   "cell_type": "markdown",
   "metadata": {},
   "source": [
    "### Text Formatting\n",
    "\n",
    "Bold - (** **) / (__ __)\n",
    "\n",
    "**important**\n",
    "\n",
    "__important__\n",
    "\n",
    "line breaks - there should be an additional blank line\n",
    "\n",
    "Italics - (* *)  / (_ _)\n",
    "\n",
    "*emphasize*\n",
    "\n",
    "_emphasize_\n",
    "\n",
    "Strikethrough (~~ ~~)\n",
    "\n",
    "~~500~~ 200\n",
    "\n",
    "Superscript (^ ^) and Subscript (~ ~)\n",
    "\n",
    "H~2~0 is the formula for water.\n",
    "H<sub>2</sub>0\n",
    "2^2^ = 4\n",
    "\n",
    "2<sup>2</sup> = 4"
   ]
  },
  {
   "cell_type": "markdown",
   "metadata": {},
   "source": [
    "Inline Code (` `)\n",
    "\n",
    "`print(\"Hello, World!\")`"
   ]
  },
  {
   "cell_type": "markdown",
   "metadata": {},
   "source": [
    "Blockquotes (> )\n",
    "\n",
    "> Time is gold. - Unknown"
   ]
  },
  {
   "cell_type": "markdown",
   "metadata": {},
   "source": [
    "Horizontal Rule (---) (***) (___)\n",
    "\n",
    "---\n",
    "\n",
    "***\n",
    "\n",
    "___"
   ]
  },
  {
   "cell_type": "markdown",
   "metadata": {},
   "source": [
    "##### Ordered List - numbers followed by period\n",
    "1. Breakfast\n",
    "2. Lunch\n",
    "3. Dinner\n",
    "##### Unordered List - use dashes, asterisk, plus sign\n",
    "- ML\n",
    "* Playing dota\n",
    "+ eating\n",
    "##### Nested List - list within a list\n",
    "1. Breakfast\n",
    "    - eggs\n",
    "    - fried rice\n",
    "2. Lunch \n",
    "    - monggo\n",
    "    - daing na bangus"
   ]
  },
  {
   "cell_type": "markdown",
   "metadata": {},
   "source": [
    "#### Tables\n",
    "1. Headers: Headers are defined by using a pipe symbol (|) to separate columns and hyphens (-) to separate the header row from the content rows. Each column's width is determined by the width of the content within it.\n",
    "2. Content Rows: Content rows follow the same format as the header row. Each cell's content is separated by pipe symbols (|).\n",
    "3. Formatting: You can include basic formatting within cells, such as italics, bold, or links, just like in regular Markdown text.\n",
    "\n",
    "| Person  | Profession | Age |\n",
    "|---------|------------|-----|\n",
    "|Emmanuel | Foreman    | 22  |\n",
    "|Fin      |Tech Support| 21  |\n",
    "|Arvin    |Engineer    | 20  |"
   ]
  },
  {
   "cell_type": "markdown",
   "metadata": {},
   "source": []
  }
 ],
 "metadata": {
  "language_info": {
   "name": "python"
  }
 },
 "nbformat": 4,
 "nbformat_minor": 2
}
